{
 "cells": [
  {
   "cell_type": "markdown",
   "id": "985ca719",
   "metadata": {},
   "source": [
    "# Loan Default Risk\n",
    "### Project Based Intern: Data Scientist ID/X Partners\n",
    "### By Muhammad Naufal Rafi"
   ]
  },
  {
   "cell_type": "markdown",
   "id": "3049bc01",
   "metadata": {},
   "source": [
    "# Business Understanding\n",
    "\n",
    "## Konteks\n",
    "Sebagai tugas akhir dari masa kontrakmu sebagai intern Data Scientist di ID/X Partners, kali ini kamu akan dilibatkan dalam projek dari sebuah lending company. Kamu akan berkolaborasi dengan berbagai departemen lain dalam projek ini untuk menyediakan solusi teknologi bagi company tersebut. Kamu diminta untuk membangun model yang dapat memprediksi credit risk menggunakan dataset yang disediakan oleh company yang terdiri dari data pinjaman yang diterima dan yang ditolak. Selain itu kamu juga perlu mempersiapkan media visual untuk mempresentasikan solusi ke klien. Pastikan media visual yang kamu buat jelas, mudah dibaca, dan komunikatif. Pengerjaan end-to-end solution ini dapat dilakukan di Programming Language pilihanmu dengan tetap mengacu kepada framework/methodology Data Science.\n",
    "\n",
    "## Latar Belakang\n",
    "Latar belakang dari pernyataan di atas adalah tentang tugas untuk membangun model prediksi risiko kredit. Perusahaan telah menyediakan dataset yang terdiri dari data pinjaman yang diterima dan ditolak. Tujuan dari tugas ini adalah untuk mengembangkan sebuah model yang dapat memprediksi apakah calon peminjam akan menjadi kredit yang baik atau buruk, berdasarkan data historis tentang pinjaman yang telah disetujui dan ditolak.\n",
    "\n",
    "Model ini akan membantu perusahaan untuk mengambil keputusan yang lebih akurat dalam menyetujui atau menolak pinjaman berdasarkan risiko kredit yang ditentukan. Dalam hal ini, model dapat membantu perusahaan untuk meminimalkan risiko kredit, sehingga dapat meningkatkan kinerja bisnis dan memastikan kesehatan keuangan perusahaan.\n",
    "\n",
    "Selain membangun model, tugas ini juga mencakup persiapan media visual untuk mempresentasikan solusi kepada klien. Media visual ini akan membantu perusahaan untuk memahami secara jelas bagaimana model bekerja dan bagaimana model dapat membantu perusahaan dalam pengambilan keputusan yang lebih baik.\n",
    "\n",
    "## Tujuan\n",
    "Berdasarkan pernyataan sebelumnya, berikut adalah beberapa goals yang dapat diidentifikasi:\n",
    "\n",
    "Membangun model prediksi risiko kredit yang akurat: Tujuan utama dari tugas ini adalah untuk mengembangkan model prediksi risiko kredit yang dapat memprediksi apakah calon peminjam akan menjadi kredit yang baik atau buruk, berdasarkan data historis tentang pinjaman yang telah disetujui dan ditolak. Model harus dapat memberikan hasil yang akurat dan dapat diandalkan untuk membantu perusahaan dalam pengambilan keputusan kredit.\n",
    "\n",
    "Meningkatkan kinerja bisnis: Model prediksi risiko kredit yang akurat dapat membantu perusahaan meminimalkan risiko kredit dan meningkatkan kinerja bisnis. Dengan menggunakan model ini, perusahaan dapat menyetujui atau menolak pinjaman berdasarkan risiko kredit yang ditentukan dengan lebih akurat, sehingga dapat mengurangi kemungkinan kegagalan pinjaman dan mengoptimalkan pendapatan.\n",
    "\n",
    "# Metrik Evaluasi\n",
    "Sebagai bank yang bertanggung jawab, kami memprioritaskan untuk meminimalkan risiko gagal bayar dari peminjam kami. Oleh karena itu, penting bagi kami untuk dapat mengidentifikasi secara akurat calon peminjam yang berpotensi gagal bayar. Namun, kami juga tidak ingin menolak peminjam yang sebenarnya dapat membayar pinjaman mereka tepat waktu. Oleh karena itu, kami memilih untuk memfokuskan upaya kami pada recall untuk memastikan bahwa setiap calon peminjam yang berpotensi gagal bayar dapat diidentifikasi dengan baik, bahkan jika itu berarti beberapa calon peminjam yang sebenarnya dapat membayar harus ditolak. Dengan demikian, kami dapat meminimalkan risiko gagal bayar dan memastikan keberlangsungan bisnis kami dalam jangka panjang."
   ]
  },
  {
   "cell_type": "code",
   "execution_count": 1,
   "id": "79c23a81",
   "metadata": {},
   "outputs": [],
   "source": [
    "# Import Library\n",
    "\n",
    "import pandas as pd\n",
    "import numpy as np\n",
    "import matplotlib.pyplot as plt\n",
    "import seaborn as sns\n",
    "\n",
    "from sklearn.model_selection import cross_val_predict, train_test_split, StratifiedKFold\n",
    "from sklearn.tree import DecisionTreeClassifier\n",
    "from sklearn.neighbors import KNeighborsClassifier\n",
    "from sklearn.linear_model import LogisticRegression\n",
    "\n",
    "from sklearn.preprocessing import LabelEncoder, StandardScaler, MinMaxScaler, OneHotEncoder, OrdinalEncoder, RobustScaler\n",
    "\n",
    "from sklearn.compose import ColumnTransformer\n",
    "import category_encoders as ce\n",
    "\n",
    "from sklearn.svm import SVC\n",
    "from sklearn.ensemble import RandomForestClassifier\n",
    "from sklearn.model_selection import cross_val_score, GridSearchCV, RandomizedSearchCV\n",
    "\n",
    "\n",
    "from imblearn.over_sampling import SMOTE, RandomOverSampler\n",
    "from imblearn.under_sampling import NearMiss, RandomUnderSampler\n",
    "\n",
    "\n",
    "from sklearn.metrics import classification_report\n",
    "from sklearn.metrics import roc_curve, roc_auc_score, plot_roc_curve\n",
    "\n",
    "\n",
    "from imblearn.pipeline import Pipeline\n",
    "\n",
    "import warnings\n",
    "warnings.filterwarnings('ignore')"
   ]
  },
  {
   "cell_type": "code",
   "execution_count": 2,
   "id": "1cade9c5",
   "metadata": {
    "scrolled": true
   },
   "outputs": [
    {
     "data": {
      "text/html": [
       "<div>\n",
       "<style scoped>\n",
       "    .dataframe tbody tr th:only-of-type {\n",
       "        vertical-align: middle;\n",
       "    }\n",
       "\n",
       "    .dataframe tbody tr th {\n",
       "        vertical-align: top;\n",
       "    }\n",
       "\n",
       "    .dataframe thead th {\n",
       "        text-align: right;\n",
       "    }\n",
       "</style>\n",
       "<table border=\"1\" class=\"dataframe\">\n",
       "  <thead>\n",
       "    <tr style=\"text-align: right;\">\n",
       "      <th></th>\n",
       "      <th>Unnamed: 0</th>\n",
       "      <th>id</th>\n",
       "      <th>member_id</th>\n",
       "      <th>loan_amnt</th>\n",
       "      <th>funded_amnt</th>\n",
       "      <th>funded_amnt_inv</th>\n",
       "      <th>term</th>\n",
       "      <th>int_rate</th>\n",
       "      <th>installment</th>\n",
       "      <th>grade</th>\n",
       "      <th>...</th>\n",
       "      <th>total_bal_il</th>\n",
       "      <th>il_util</th>\n",
       "      <th>open_rv_12m</th>\n",
       "      <th>open_rv_24m</th>\n",
       "      <th>max_bal_bc</th>\n",
       "      <th>all_util</th>\n",
       "      <th>total_rev_hi_lim</th>\n",
       "      <th>inq_fi</th>\n",
       "      <th>total_cu_tl</th>\n",
       "      <th>inq_last_12m</th>\n",
       "    </tr>\n",
       "  </thead>\n",
       "  <tbody>\n",
       "    <tr>\n",
       "      <th>0</th>\n",
       "      <td>0</td>\n",
       "      <td>1077501</td>\n",
       "      <td>1296599</td>\n",
       "      <td>5000</td>\n",
       "      <td>5000</td>\n",
       "      <td>4975.0</td>\n",
       "      <td>36 months</td>\n",
       "      <td>10.65</td>\n",
       "      <td>162.87</td>\n",
       "      <td>B</td>\n",
       "      <td>...</td>\n",
       "      <td>NaN</td>\n",
       "      <td>NaN</td>\n",
       "      <td>NaN</td>\n",
       "      <td>NaN</td>\n",
       "      <td>NaN</td>\n",
       "      <td>NaN</td>\n",
       "      <td>NaN</td>\n",
       "      <td>NaN</td>\n",
       "      <td>NaN</td>\n",
       "      <td>NaN</td>\n",
       "    </tr>\n",
       "    <tr>\n",
       "      <th>1</th>\n",
       "      <td>1</td>\n",
       "      <td>1077430</td>\n",
       "      <td>1314167</td>\n",
       "      <td>2500</td>\n",
       "      <td>2500</td>\n",
       "      <td>2500.0</td>\n",
       "      <td>60 months</td>\n",
       "      <td>15.27</td>\n",
       "      <td>59.83</td>\n",
       "      <td>C</td>\n",
       "      <td>...</td>\n",
       "      <td>NaN</td>\n",
       "      <td>NaN</td>\n",
       "      <td>NaN</td>\n",
       "      <td>NaN</td>\n",
       "      <td>NaN</td>\n",
       "      <td>NaN</td>\n",
       "      <td>NaN</td>\n",
       "      <td>NaN</td>\n",
       "      <td>NaN</td>\n",
       "      <td>NaN</td>\n",
       "    </tr>\n",
       "    <tr>\n",
       "      <th>2</th>\n",
       "      <td>2</td>\n",
       "      <td>1077175</td>\n",
       "      <td>1313524</td>\n",
       "      <td>2400</td>\n",
       "      <td>2400</td>\n",
       "      <td>2400.0</td>\n",
       "      <td>36 months</td>\n",
       "      <td>15.96</td>\n",
       "      <td>84.33</td>\n",
       "      <td>C</td>\n",
       "      <td>...</td>\n",
       "      <td>NaN</td>\n",
       "      <td>NaN</td>\n",
       "      <td>NaN</td>\n",
       "      <td>NaN</td>\n",
       "      <td>NaN</td>\n",
       "      <td>NaN</td>\n",
       "      <td>NaN</td>\n",
       "      <td>NaN</td>\n",
       "      <td>NaN</td>\n",
       "      <td>NaN</td>\n",
       "    </tr>\n",
       "    <tr>\n",
       "      <th>3</th>\n",
       "      <td>3</td>\n",
       "      <td>1076863</td>\n",
       "      <td>1277178</td>\n",
       "      <td>10000</td>\n",
       "      <td>10000</td>\n",
       "      <td>10000.0</td>\n",
       "      <td>36 months</td>\n",
       "      <td>13.49</td>\n",
       "      <td>339.31</td>\n",
       "      <td>C</td>\n",
       "      <td>...</td>\n",
       "      <td>NaN</td>\n",
       "      <td>NaN</td>\n",
       "      <td>NaN</td>\n",
       "      <td>NaN</td>\n",
       "      <td>NaN</td>\n",
       "      <td>NaN</td>\n",
       "      <td>NaN</td>\n",
       "      <td>NaN</td>\n",
       "      <td>NaN</td>\n",
       "      <td>NaN</td>\n",
       "    </tr>\n",
       "    <tr>\n",
       "      <th>4</th>\n",
       "      <td>4</td>\n",
       "      <td>1075358</td>\n",
       "      <td>1311748</td>\n",
       "      <td>3000</td>\n",
       "      <td>3000</td>\n",
       "      <td>3000.0</td>\n",
       "      <td>60 months</td>\n",
       "      <td>12.69</td>\n",
       "      <td>67.79</td>\n",
       "      <td>B</td>\n",
       "      <td>...</td>\n",
       "      <td>NaN</td>\n",
       "      <td>NaN</td>\n",
       "      <td>NaN</td>\n",
       "      <td>NaN</td>\n",
       "      <td>NaN</td>\n",
       "      <td>NaN</td>\n",
       "      <td>NaN</td>\n",
       "      <td>NaN</td>\n",
       "      <td>NaN</td>\n",
       "      <td>NaN</td>\n",
       "    </tr>\n",
       "  </tbody>\n",
       "</table>\n",
       "<p>5 rows × 75 columns</p>\n",
       "</div>"
      ],
      "text/plain": [
       "   Unnamed: 0       id  member_id  loan_amnt  funded_amnt  funded_amnt_inv  \\\n",
       "0           0  1077501    1296599       5000         5000           4975.0   \n",
       "1           1  1077430    1314167       2500         2500           2500.0   \n",
       "2           2  1077175    1313524       2400         2400           2400.0   \n",
       "3           3  1076863    1277178      10000        10000          10000.0   \n",
       "4           4  1075358    1311748       3000         3000           3000.0   \n",
       "\n",
       "         term  int_rate  installment grade  ... total_bal_il il_util  \\\n",
       "0   36 months     10.65       162.87     B  ...          NaN     NaN   \n",
       "1   60 months     15.27        59.83     C  ...          NaN     NaN   \n",
       "2   36 months     15.96        84.33     C  ...          NaN     NaN   \n",
       "3   36 months     13.49       339.31     C  ...          NaN     NaN   \n",
       "4   60 months     12.69        67.79     B  ...          NaN     NaN   \n",
       "\n",
       "  open_rv_12m open_rv_24m  max_bal_bc all_util total_rev_hi_lim inq_fi  \\\n",
       "0         NaN         NaN         NaN      NaN              NaN    NaN   \n",
       "1         NaN         NaN         NaN      NaN              NaN    NaN   \n",
       "2         NaN         NaN         NaN      NaN              NaN    NaN   \n",
       "3         NaN         NaN         NaN      NaN              NaN    NaN   \n",
       "4         NaN         NaN         NaN      NaN              NaN    NaN   \n",
       "\n",
       "  total_cu_tl inq_last_12m  \n",
       "0         NaN          NaN  \n",
       "1         NaN          NaN  \n",
       "2         NaN          NaN  \n",
       "3         NaN          NaN  \n",
       "4         NaN          NaN  \n",
       "\n",
       "[5 rows x 75 columns]"
      ]
     },
     "execution_count": 2,
     "metadata": {},
     "output_type": "execute_result"
    }
   ],
   "source": [
    "df = pd.read_csv('loan_data_2007_2014.csv')\n",
    "df.head()"
   ]
  },
  {
   "cell_type": "code",
   "execution_count": 3,
   "id": "d13c75ed",
   "metadata": {},
   "outputs": [],
   "source": [
    "df.drop(columns='Unnamed: 0', inplace=True)"
   ]
  },
  {
   "cell_type": "code",
   "execution_count": 4,
   "id": "e75095c4",
   "metadata": {},
   "outputs": [],
   "source": [
    "df = df[['acc_now_delinq', 'all_util', 'annual_inc', 'application_type',\n",
    "         'dti_joint', 'emp_length', 'funded_amnt', 'grade', 'home_ownership',\n",
    "         'il_util', 'initial_list_status', 'inq_last_12m', 'int_rate', 'last_pymnt_amnt',\n",
    "         'loan_amnt', 'purpose', 'recoveries', 'term', 'verification_status', 'loan_status']]"
   ]
  },
  {
   "cell_type": "code",
   "execution_count": 5,
   "id": "9a3a17e1",
   "metadata": {},
   "outputs": [
    {
     "data": {
      "text/html": [
       "<div>\n",
       "<style scoped>\n",
       "    .dataframe tbody tr th:only-of-type {\n",
       "        vertical-align: middle;\n",
       "    }\n",
       "\n",
       "    .dataframe tbody tr th {\n",
       "        vertical-align: top;\n",
       "    }\n",
       "\n",
       "    .dataframe thead th {\n",
       "        text-align: right;\n",
       "    }\n",
       "</style>\n",
       "<table border=\"1\" class=\"dataframe\">\n",
       "  <thead>\n",
       "    <tr style=\"text-align: right;\">\n",
       "      <th></th>\n",
       "      <th>index</th>\n",
       "      <th>features</th>\n",
       "      <th>missing_value</th>\n",
       "      <th>Percentage</th>\n",
       "    </tr>\n",
       "  </thead>\n",
       "  <tbody>\n",
       "    <tr>\n",
       "      <th>0</th>\n",
       "      <td>4</td>\n",
       "      <td>dti_joint</td>\n",
       "      <td>466285</td>\n",
       "      <td>100.000000</td>\n",
       "    </tr>\n",
       "    <tr>\n",
       "      <th>1</th>\n",
       "      <td>9</td>\n",
       "      <td>il_util</td>\n",
       "      <td>466285</td>\n",
       "      <td>100.000000</td>\n",
       "    </tr>\n",
       "    <tr>\n",
       "      <th>2</th>\n",
       "      <td>1</td>\n",
       "      <td>all_util</td>\n",
       "      <td>466285</td>\n",
       "      <td>100.000000</td>\n",
       "    </tr>\n",
       "    <tr>\n",
       "      <th>3</th>\n",
       "      <td>11</td>\n",
       "      <td>inq_last_12m</td>\n",
       "      <td>466285</td>\n",
       "      <td>100.000000</td>\n",
       "    </tr>\n",
       "    <tr>\n",
       "      <th>4</th>\n",
       "      <td>5</td>\n",
       "      <td>emp_length</td>\n",
       "      <td>21008</td>\n",
       "      <td>4.505399</td>\n",
       "    </tr>\n",
       "    <tr>\n",
       "      <th>5</th>\n",
       "      <td>0</td>\n",
       "      <td>acc_now_delinq</td>\n",
       "      <td>29</td>\n",
       "      <td>0.006219</td>\n",
       "    </tr>\n",
       "    <tr>\n",
       "      <th>6</th>\n",
       "      <td>2</td>\n",
       "      <td>annual_inc</td>\n",
       "      <td>4</td>\n",
       "      <td>0.000858</td>\n",
       "    </tr>\n",
       "    <tr>\n",
       "      <th>7</th>\n",
       "      <td>13</td>\n",
       "      <td>last_pymnt_amnt</td>\n",
       "      <td>0</td>\n",
       "      <td>0.000000</td>\n",
       "    </tr>\n",
       "    <tr>\n",
       "      <th>8</th>\n",
       "      <td>18</td>\n",
       "      <td>verification_status</td>\n",
       "      <td>0</td>\n",
       "      <td>0.000000</td>\n",
       "    </tr>\n",
       "    <tr>\n",
       "      <th>9</th>\n",
       "      <td>17</td>\n",
       "      <td>term</td>\n",
       "      <td>0</td>\n",
       "      <td>0.000000</td>\n",
       "    </tr>\n",
       "    <tr>\n",
       "      <th>10</th>\n",
       "      <td>16</td>\n",
       "      <td>recoveries</td>\n",
       "      <td>0</td>\n",
       "      <td>0.000000</td>\n",
       "    </tr>\n",
       "    <tr>\n",
       "      <th>11</th>\n",
       "      <td>15</td>\n",
       "      <td>purpose</td>\n",
       "      <td>0</td>\n",
       "      <td>0.000000</td>\n",
       "    </tr>\n",
       "    <tr>\n",
       "      <th>12</th>\n",
       "      <td>14</td>\n",
       "      <td>loan_amnt</td>\n",
       "      <td>0</td>\n",
       "      <td>0.000000</td>\n",
       "    </tr>\n",
       "    <tr>\n",
       "      <th>13</th>\n",
       "      <td>10</td>\n",
       "      <td>initial_list_status</td>\n",
       "      <td>0</td>\n",
       "      <td>0.000000</td>\n",
       "    </tr>\n",
       "    <tr>\n",
       "      <th>14</th>\n",
       "      <td>12</td>\n",
       "      <td>int_rate</td>\n",
       "      <td>0</td>\n",
       "      <td>0.000000</td>\n",
       "    </tr>\n",
       "    <tr>\n",
       "      <th>15</th>\n",
       "      <td>8</td>\n",
       "      <td>home_ownership</td>\n",
       "      <td>0</td>\n",
       "      <td>0.000000</td>\n",
       "    </tr>\n",
       "    <tr>\n",
       "      <th>16</th>\n",
       "      <td>7</td>\n",
       "      <td>grade</td>\n",
       "      <td>0</td>\n",
       "      <td>0.000000</td>\n",
       "    </tr>\n",
       "    <tr>\n",
       "      <th>17</th>\n",
       "      <td>6</td>\n",
       "      <td>funded_amnt</td>\n",
       "      <td>0</td>\n",
       "      <td>0.000000</td>\n",
       "    </tr>\n",
       "    <tr>\n",
       "      <th>18</th>\n",
       "      <td>3</td>\n",
       "      <td>application_type</td>\n",
       "      <td>0</td>\n",
       "      <td>0.000000</td>\n",
       "    </tr>\n",
       "    <tr>\n",
       "      <th>19</th>\n",
       "      <td>19</td>\n",
       "      <td>loan_status</td>\n",
       "      <td>0</td>\n",
       "      <td>0.000000</td>\n",
       "    </tr>\n",
       "  </tbody>\n",
       "</table>\n",
       "</div>"
      ],
      "text/plain": [
       "    index             features  missing_value  Percentage\n",
       "0       4            dti_joint         466285  100.000000\n",
       "1       9              il_util         466285  100.000000\n",
       "2       1             all_util         466285  100.000000\n",
       "3      11         inq_last_12m         466285  100.000000\n",
       "4       5           emp_length          21008    4.505399\n",
       "5       0       acc_now_delinq             29    0.006219\n",
       "6       2           annual_inc              4    0.000858\n",
       "7      13      last_pymnt_amnt              0    0.000000\n",
       "8      18  verification_status              0    0.000000\n",
       "9      17                 term              0    0.000000\n",
       "10     16           recoveries              0    0.000000\n",
       "11     15              purpose              0    0.000000\n",
       "12     14            loan_amnt              0    0.000000\n",
       "13     10  initial_list_status              0    0.000000\n",
       "14     12             int_rate              0    0.000000\n",
       "15      8       home_ownership              0    0.000000\n",
       "16      7                grade              0    0.000000\n",
       "17      6          funded_amnt              0    0.000000\n",
       "18      3     application_type              0    0.000000\n",
       "19     19          loan_status              0    0.000000"
      ]
     },
     "execution_count": 5,
     "metadata": {},
     "output_type": "execute_result"
    }
   ],
   "source": [
    "df_null = df.isnull().sum().reset_index()\n",
    "df_null.columns = [\"features\", \"missing_value\"]\n",
    "df_null['Percentage'] = (df_null[\"missing_value\"]/df.shape[0])*100\n",
    "df_null.sort_values(by=['Percentage'], ascending = False).reset_index()"
   ]
  },
  {
   "cell_type": "code",
   "execution_count": 6,
   "id": "dd977ee0",
   "metadata": {},
   "outputs": [],
   "source": [
    "to_drop = df_null[df_null['Percentage']>25]['features']\n",
    "to_drop\n",
    "\n",
    "df.drop(to_drop, axis=1, inplace=True)"
   ]
  },
  {
   "cell_type": "code",
   "execution_count": 7,
   "id": "61bdce6c",
   "metadata": {},
   "outputs": [],
   "source": [
    "df.dropna(inplace=True)"
   ]
  },
  {
   "cell_type": "code",
   "execution_count": 8,
   "id": "4cf9d6e7",
   "metadata": {},
   "outputs": [
    {
     "name": "stdout",
     "output_type": "stream",
     "text": [
      "<class 'pandas.core.frame.DataFrame'>\n",
      "Int64Index: 445248 entries, 0 to 466284\n",
      "Data columns (total 16 columns):\n",
      " #   Column               Non-Null Count   Dtype  \n",
      "---  ------               --------------   -----  \n",
      " 0   acc_now_delinq       445248 non-null  float64\n",
      " 1   annual_inc           445248 non-null  float64\n",
      " 2   application_type     445248 non-null  object \n",
      " 3   emp_length           445248 non-null  object \n",
      " 4   funded_amnt          445248 non-null  int64  \n",
      " 5   grade                445248 non-null  object \n",
      " 6   home_ownership       445248 non-null  object \n",
      " 7   initial_list_status  445248 non-null  object \n",
      " 8   int_rate             445248 non-null  float64\n",
      " 9   last_pymnt_amnt      445248 non-null  float64\n",
      " 10  loan_amnt            445248 non-null  int64  \n",
      " 11  purpose              445248 non-null  object \n",
      " 12  recoveries           445248 non-null  float64\n",
      " 13  term                 445248 non-null  object \n",
      " 14  verification_status  445248 non-null  object \n",
      " 15  loan_status          445248 non-null  object \n",
      "dtypes: float64(5), int64(2), object(9)\n",
      "memory usage: 57.7+ MB\n"
     ]
    }
   ],
   "source": [
    "df.info()"
   ]
  },
  {
   "cell_type": "code",
   "execution_count": 9,
   "id": "558118cc",
   "metadata": {},
   "outputs": [
    {
     "data": {
      "text/plain": [
       " 36 months    320728\n",
       " 60 months    124520\n",
       "Name: term, dtype: int64"
      ]
     },
     "execution_count": 9,
     "metadata": {},
     "output_type": "execute_result"
    }
   ],
   "source": [
    "df.term.value_counts()"
   ]
  },
  {
   "cell_type": "code",
   "execution_count": 10,
   "id": "6c894549",
   "metadata": {},
   "outputs": [],
   "source": [
    "df['term_months'] = df['term'].str[:3].astype('int')"
   ]
  },
  {
   "cell_type": "code",
   "execution_count": 11,
   "id": "27981270",
   "metadata": {},
   "outputs": [],
   "source": [
    "df['term_year'] = df['term_months'] // 12"
   ]
  },
  {
   "cell_type": "code",
   "execution_count": 12,
   "id": "a0f802ce",
   "metadata": {},
   "outputs": [],
   "source": [
    "df.drop(columns='term', inplace=True)"
   ]
  },
  {
   "cell_type": "code",
   "execution_count": 13,
   "id": "94460e8f",
   "metadata": {},
   "outputs": [
    {
     "data": {
      "text/plain": [
       "B    130790\n",
       "C    119463\n",
       "D     73198\n",
       "A     71773\n",
       "E     34137\n",
       "F     12678\n",
       "G      3209\n",
       "Name: grade, dtype: int64"
      ]
     },
     "execution_count": 13,
     "metadata": {},
     "output_type": "execute_result"
    }
   ],
   "source": [
    "df.grade.value_counts()"
   ]
  },
  {
   "cell_type": "code",
   "execution_count": 14,
   "id": "0d2b9b9e",
   "metadata": {},
   "outputs": [],
   "source": [
    "df['grade_num'] = df['grade'].replace({\n",
    "    'A': 1,\n",
    "    'B': 2,\n",
    "    'C': 3,\n",
    "    'D': 4,\n",
    "    'E': 5,\n",
    "    'F': 6,\n",
    "    'G': 7\n",
    "})"
   ]
  },
  {
   "cell_type": "code",
   "execution_count": 15,
   "id": "10d07ab3",
   "metadata": {},
   "outputs": [],
   "source": [
    "df.drop(columns='grade', inplace=True)"
   ]
  },
  {
   "cell_type": "code",
   "execution_count": 16,
   "id": "755b568e",
   "metadata": {},
   "outputs": [],
   "source": [
    "empl_new = {'< 1 year' : 0,'1 year' : 1,'2 years' : 2,'3 years' : 3,'4 years' : 4,'5 years' : 5,'6 years' : 6, '7 years' : 7, '8 years' : 8, 'years' : 9, '0    10+ years\\ndtype: object' : 10, '10+ years' : 10}\n",
    "df['emp_length'] = df['emp_length'].map(empl_new)"
   ]
  },
  {
   "cell_type": "code",
   "execution_count": 17,
   "id": "17781bfe",
   "metadata": {},
   "outputs": [
    {
     "data": {
      "text/plain": [
       "Verified           152243\n",
       "Not Verified       147252\n",
       "Source Verified    145753\n",
       "Name: verification_status, dtype: int64"
      ]
     },
     "execution_count": 17,
     "metadata": {},
     "output_type": "execute_result"
    }
   ],
   "source": [
    "df.verification_status.value_counts()"
   ]
  },
  {
   "cell_type": "code",
   "execution_count": 18,
   "id": "f2659f12",
   "metadata": {},
   "outputs": [
    {
     "data": {
      "text/plain": [
       "Current                                                212545\n",
       "Fully Paid                                             178388\n",
       "Charged Off                                             40153\n",
       "Late (31-120 days)                                       6499\n",
       "In Grace Period                                          3044\n",
       "Does not meet the credit policy. Status:Fully Paid       1943\n",
       "Late (16-30 days)                                        1149\n",
       "Default                                                   784\n",
       "Does not meet the credit policy. Status:Charged Off       743\n",
       "Name: loan_status, dtype: int64"
      ]
     },
     "execution_count": 18,
     "metadata": {},
     "output_type": "execute_result"
    }
   ],
   "source": [
    "df.loan_status.value_counts()"
   ]
  },
  {
   "cell_type": "code",
   "execution_count": 19,
   "id": "71fc1f1b",
   "metadata": {},
   "outputs": [],
   "source": [
    "to_drop1 = ['Current', 'In Grace Period']\n",
    "df = df[df.loan_status.isin(to_drop1) == False]"
   ]
  },
  {
   "cell_type": "code",
   "execution_count": 20,
   "id": "51ef7a0d",
   "metadata": {},
   "outputs": [
    {
     "data": {
      "text/plain": [
       "Fully Paid                                             178388\n",
       "Charged Off                                             40153\n",
       "Late (31-120 days)                                       6499\n",
       "Does not meet the credit policy. Status:Fully Paid       1943\n",
       "Late (16-30 days)                                        1149\n",
       "Default                                                   784\n",
       "Does not meet the credit policy. Status:Charged Off       743\n",
       "Name: loan_status, dtype: int64"
      ]
     },
     "execution_count": 20,
     "metadata": {},
     "output_type": "execute_result"
    }
   ],
   "source": [
    "df.loan_status.value_counts()"
   ]
  },
  {
   "cell_type": "code",
   "execution_count": 21,
   "id": "c74fe267",
   "metadata": {},
   "outputs": [],
   "source": [
    "#memilah loan status\n",
    "low_risk = ['Fully Paid', 'Does not meet the credit policy. Status:Fully Paid']\n",
    "\n",
    "#membuat kolom baru untuk mengklasifikasi\n",
    "df['target'] = np.where(df['loan_status'].isin(low_risk), 0, 1)\n",
    "     "
   ]
  },
  {
   "cell_type": "code",
   "execution_count": 22,
   "id": "f4bbe4e0",
   "metadata": {},
   "outputs": [],
   "source": [
    "df.drop(columns='loan_status', inplace=True)"
   ]
  },
  {
   "cell_type": "code",
   "execution_count": 23,
   "id": "bf8903ec",
   "metadata": {},
   "outputs": [],
   "source": [
    "df.dropna(inplace=True)"
   ]
  },
  {
   "cell_type": "code",
   "execution_count": 24,
   "id": "cb7ee076",
   "metadata": {},
   "outputs": [
    {
     "data": {
      "text/plain": [
       "0    0.785819\n",
       "1    0.214181\n",
       "Name: target, dtype: float64"
      ]
     },
     "execution_count": 24,
     "metadata": {},
     "output_type": "execute_result"
    }
   ],
   "source": [
    "df.target.value_counts()/len(df)"
   ]
  },
  {
   "cell_type": "code",
   "execution_count": 25,
   "id": "88862403",
   "metadata": {},
   "outputs": [
    {
     "name": "stdout",
     "output_type": "stream",
     "text": [
      "<class 'pandas.core.frame.DataFrame'>\n",
      "Int64Index: 220664 entries, 0 to 466283\n",
      "Data columns (total 17 columns):\n",
      " #   Column               Non-Null Count   Dtype  \n",
      "---  ------               --------------   -----  \n",
      " 0   acc_now_delinq       220664 non-null  float64\n",
      " 1   annual_inc           220664 non-null  float64\n",
      " 2   application_type     220664 non-null  object \n",
      " 3   emp_length           220664 non-null  float64\n",
      " 4   funded_amnt          220664 non-null  int64  \n",
      " 5   home_ownership       220664 non-null  object \n",
      " 6   initial_list_status  220664 non-null  object \n",
      " 7   int_rate             220664 non-null  float64\n",
      " 8   last_pymnt_amnt      220664 non-null  float64\n",
      " 9   loan_amnt            220664 non-null  int64  \n",
      " 10  purpose              220664 non-null  object \n",
      " 11  recoveries           220664 non-null  float64\n",
      " 12  verification_status  220664 non-null  object \n",
      " 13  term_months          220664 non-null  int32  \n",
      " 14  term_year            220664 non-null  int32  \n",
      " 15  grade_num            220664 non-null  int64  \n",
      " 16  target               220664 non-null  int32  \n",
      "dtypes: float64(6), int32(3), int64(3), object(5)\n",
      "memory usage: 27.8+ MB\n"
     ]
    }
   ],
   "source": [
    "df.info()"
   ]
  },
  {
   "cell_type": "code",
   "execution_count": 26,
   "id": "8646c023",
   "metadata": {},
   "outputs": [],
   "source": [
    "df.drop(columns='application_type', inplace=True)"
   ]
  },
  {
   "cell_type": "code",
   "execution_count": 27,
   "id": "a9e0f114",
   "metadata": {},
   "outputs": [],
   "source": [
    "home_ownership = ['MORTGAGE', 'RENT', 'OWN']\n",
    "df = df[df.home_ownership.isin(home_ownership)]"
   ]
  },
  {
   "cell_type": "code",
   "execution_count": 28,
   "id": "114cc5c9",
   "metadata": {},
   "outputs": [
    {
     "data": {
      "text/plain": [
       "MORTGAGE    108147\n",
       "RENT         94421\n",
       "OWN          17884\n",
       "Name: home_ownership, dtype: int64"
      ]
     },
     "execution_count": 28,
     "metadata": {},
     "output_type": "execute_result"
    }
   ],
   "source": [
    "df.home_ownership.value_counts()"
   ]
  },
  {
   "cell_type": "code",
   "execution_count": 29,
   "id": "475d4ca2",
   "metadata": {},
   "outputs": [
    {
     "data": {
      "text/plain": [
       "f    164269\n",
       "w     56183\n",
       "Name: initial_list_status, dtype: int64"
      ]
     },
     "execution_count": 29,
     "metadata": {},
     "output_type": "execute_result"
    }
   ],
   "source": [
    "df.initial_list_status.value_counts()"
   ]
  },
  {
   "cell_type": "code",
   "execution_count": 30,
   "id": "b33f5083",
   "metadata": {},
   "outputs": [
    {
     "data": {
      "text/plain": [
       "debt_consolidation    128707\n",
       "credit_card            43720\n",
       "home_improvement       12687\n",
       "other                  12492\n",
       "major_purchase          5556\n",
       "small_business          4518\n",
       "car                     3246\n",
       "medical                 2485\n",
       "wedding                 1938\n",
       "moving                  1745\n",
       "house                   1428\n",
       "vacation                1302\n",
       "educational              398\n",
       "renewable_energy         230\n",
       "Name: purpose, dtype: int64"
      ]
     },
     "execution_count": 30,
     "metadata": {},
     "output_type": "execute_result"
    }
   ],
   "source": [
    "df.purpose.value_counts()"
   ]
  },
  {
   "cell_type": "code",
   "execution_count": 31,
   "id": "947bdb19",
   "metadata": {},
   "outputs": [],
   "source": [
    "# create a dictionary to map loan purposes to categories\n",
    "purpose_dict = {\n",
    "    'debt_consolidation': 'debt',\n",
    "    'credit_card': 'debt',\n",
    "    'home_improvement': 'home',\n",
    "    'other': 'other',\n",
    "    'major_purchase': 'major',\n",
    "    'small_business': 'business',\n",
    "    'car': 'major',\n",
    "    'medical': 'major',\n",
    "    'wedding': 'major',\n",
    "    'moving': 'home',\n",
    "    'house': 'home',\n",
    "    'vacation': 'major',\n",
    "    'educational': 'other',\n",
    "    'renewable_energy': 'other'\n",
    "}\n",
    "\n",
    "# apply the mapping to create a new column for loan purpose category\n",
    "df['purpose'] = df['purpose'].map(purpose_dict)"
   ]
  },
  {
   "cell_type": "code",
   "execution_count": 32,
   "id": "41c82eb1",
   "metadata": {},
   "outputs": [
    {
     "data": {
      "text/plain": [
       "debt        172427\n",
       "home         15860\n",
       "major        14527\n",
       "other        13120\n",
       "business      4518\n",
       "Name: purpose, dtype: int64"
      ]
     },
     "execution_count": 32,
     "metadata": {},
     "output_type": "execute_result"
    }
   ],
   "source": [
    "df.purpose.value_counts()"
   ]
  },
  {
   "cell_type": "code",
   "execution_count": 33,
   "id": "a2bf4d58",
   "metadata": {},
   "outputs": [
    {
     "data": {
      "text/plain": [
       "Not Verified       78984\n",
       "Verified           78870\n",
       "Source Verified    62598\n",
       "Name: verification_status, dtype: int64"
      ]
     },
     "execution_count": 33,
     "metadata": {},
     "output_type": "execute_result"
    }
   ],
   "source": [
    "df.verification_status.value_counts()"
   ]
  },
  {
   "cell_type": "code",
   "execution_count": 34,
   "id": "33ec2740",
   "metadata": {},
   "outputs": [
    {
     "data": {
      "text/html": [
       "<div>\n",
       "<style scoped>\n",
       "    .dataframe tbody tr th:only-of-type {\n",
       "        vertical-align: middle;\n",
       "    }\n",
       "\n",
       "    .dataframe tbody tr th {\n",
       "        vertical-align: top;\n",
       "    }\n",
       "\n",
       "    .dataframe thead th {\n",
       "        text-align: right;\n",
       "    }\n",
       "</style>\n",
       "<table border=\"1\" class=\"dataframe\">\n",
       "  <thead>\n",
       "    <tr style=\"text-align: right;\">\n",
       "      <th></th>\n",
       "      <th>acc_now_delinq</th>\n",
       "      <th>annual_inc</th>\n",
       "      <th>emp_length</th>\n",
       "      <th>funded_amnt</th>\n",
       "      <th>home_ownership</th>\n",
       "      <th>initial_list_status</th>\n",
       "      <th>int_rate</th>\n",
       "      <th>last_pymnt_amnt</th>\n",
       "      <th>loan_amnt</th>\n",
       "      <th>purpose</th>\n",
       "      <th>recoveries</th>\n",
       "      <th>verification_status</th>\n",
       "      <th>term_months</th>\n",
       "      <th>term_year</th>\n",
       "      <th>grade_num</th>\n",
       "      <th>target</th>\n",
       "    </tr>\n",
       "  </thead>\n",
       "  <tbody>\n",
       "    <tr>\n",
       "      <th>0</th>\n",
       "      <td>0.0</td>\n",
       "      <td>24000.0</td>\n",
       "      <td>10.0</td>\n",
       "      <td>5000</td>\n",
       "      <td>RENT</td>\n",
       "      <td>f</td>\n",
       "      <td>10.65</td>\n",
       "      <td>171.62</td>\n",
       "      <td>5000</td>\n",
       "      <td>debt</td>\n",
       "      <td>0.00</td>\n",
       "      <td>Verified</td>\n",
       "      <td>36</td>\n",
       "      <td>3</td>\n",
       "      <td>2</td>\n",
       "      <td>0</td>\n",
       "    </tr>\n",
       "    <tr>\n",
       "      <th>1</th>\n",
       "      <td>0.0</td>\n",
       "      <td>30000.0</td>\n",
       "      <td>0.0</td>\n",
       "      <td>2500</td>\n",
       "      <td>RENT</td>\n",
       "      <td>f</td>\n",
       "      <td>15.27</td>\n",
       "      <td>119.66</td>\n",
       "      <td>2500</td>\n",
       "      <td>major</td>\n",
       "      <td>117.08</td>\n",
       "      <td>Source Verified</td>\n",
       "      <td>60</td>\n",
       "      <td>5</td>\n",
       "      <td>3</td>\n",
       "      <td>1</td>\n",
       "    </tr>\n",
       "    <tr>\n",
       "      <th>2</th>\n",
       "      <td>0.0</td>\n",
       "      <td>12252.0</td>\n",
       "      <td>10.0</td>\n",
       "      <td>2400</td>\n",
       "      <td>RENT</td>\n",
       "      <td>f</td>\n",
       "      <td>15.96</td>\n",
       "      <td>649.91</td>\n",
       "      <td>2400</td>\n",
       "      <td>business</td>\n",
       "      <td>0.00</td>\n",
       "      <td>Not Verified</td>\n",
       "      <td>36</td>\n",
       "      <td>3</td>\n",
       "      <td>3</td>\n",
       "      <td>0</td>\n",
       "    </tr>\n",
       "    <tr>\n",
       "      <th>3</th>\n",
       "      <td>0.0</td>\n",
       "      <td>49200.0</td>\n",
       "      <td>10.0</td>\n",
       "      <td>10000</td>\n",
       "      <td>RENT</td>\n",
       "      <td>f</td>\n",
       "      <td>13.49</td>\n",
       "      <td>357.48</td>\n",
       "      <td>10000</td>\n",
       "      <td>other</td>\n",
       "      <td>0.00</td>\n",
       "      <td>Source Verified</td>\n",
       "      <td>36</td>\n",
       "      <td>3</td>\n",
       "      <td>3</td>\n",
       "      <td>0</td>\n",
       "    </tr>\n",
       "    <tr>\n",
       "      <th>5</th>\n",
       "      <td>0.0</td>\n",
       "      <td>36000.0</td>\n",
       "      <td>3.0</td>\n",
       "      <td>5000</td>\n",
       "      <td>RENT</td>\n",
       "      <td>f</td>\n",
       "      <td>7.90</td>\n",
       "      <td>161.03</td>\n",
       "      <td>5000</td>\n",
       "      <td>major</td>\n",
       "      <td>0.00</td>\n",
       "      <td>Source Verified</td>\n",
       "      <td>36</td>\n",
       "      <td>3</td>\n",
       "      <td>1</td>\n",
       "      <td>0</td>\n",
       "    </tr>\n",
       "    <tr>\n",
       "      <th>...</th>\n",
       "      <td>...</td>\n",
       "      <td>...</td>\n",
       "      <td>...</td>\n",
       "      <td>...</td>\n",
       "      <td>...</td>\n",
       "      <td>...</td>\n",
       "      <td>...</td>\n",
       "      <td>...</td>\n",
       "      <td>...</td>\n",
       "      <td>...</td>\n",
       "      <td>...</td>\n",
       "      <td>...</td>\n",
       "      <td>...</td>\n",
       "      <td>...</td>\n",
       "      <td>...</td>\n",
       "      <td>...</td>\n",
       "    </tr>\n",
       "    <tr>\n",
       "      <th>466276</th>\n",
       "      <td>0.0</td>\n",
       "      <td>37536.0</td>\n",
       "      <td>5.0</td>\n",
       "      <td>8525</td>\n",
       "      <td>MORTGAGE</td>\n",
       "      <td>f</td>\n",
       "      <td>18.25</td>\n",
       "      <td>217.65</td>\n",
       "      <td>8525</td>\n",
       "      <td>major</td>\n",
       "      <td>1159.40</td>\n",
       "      <td>Verified</td>\n",
       "      <td>60</td>\n",
       "      <td>5</td>\n",
       "      <td>4</td>\n",
       "      <td>1</td>\n",
       "    </tr>\n",
       "    <tr>\n",
       "      <th>466277</th>\n",
       "      <td>0.0</td>\n",
       "      <td>90000.0</td>\n",
       "      <td>3.0</td>\n",
       "      <td>18000</td>\n",
       "      <td>RENT</td>\n",
       "      <td>f</td>\n",
       "      <td>7.90</td>\n",
       "      <td>563.23</td>\n",
       "      <td>18000</td>\n",
       "      <td>debt</td>\n",
       "      <td>0.00</td>\n",
       "      <td>Verified</td>\n",
       "      <td>36</td>\n",
       "      <td>3</td>\n",
       "      <td>1</td>\n",
       "      <td>1</td>\n",
       "    </tr>\n",
       "    <tr>\n",
       "      <th>466278</th>\n",
       "      <td>0.0</td>\n",
       "      <td>42000.0</td>\n",
       "      <td>10.0</td>\n",
       "      <td>10000</td>\n",
       "      <td>RENT</td>\n",
       "      <td>f</td>\n",
       "      <td>18.25</td>\n",
       "      <td>5501.60</td>\n",
       "      <td>10000</td>\n",
       "      <td>major</td>\n",
       "      <td>0.00</td>\n",
       "      <td>Source Verified</td>\n",
       "      <td>36</td>\n",
       "      <td>3</td>\n",
       "      <td>4</td>\n",
       "      <td>0</td>\n",
       "    </tr>\n",
       "    <tr>\n",
       "      <th>466281</th>\n",
       "      <td>0.0</td>\n",
       "      <td>78000.0</td>\n",
       "      <td>10.0</td>\n",
       "      <td>22000</td>\n",
       "      <td>MORTGAGE</td>\n",
       "      <td>f</td>\n",
       "      <td>19.97</td>\n",
       "      <td>17.50</td>\n",
       "      <td>22000</td>\n",
       "      <td>debt</td>\n",
       "      <td>0.00</td>\n",
       "      <td>Verified</td>\n",
       "      <td>60</td>\n",
       "      <td>5</td>\n",
       "      <td>4</td>\n",
       "      <td>1</td>\n",
       "    </tr>\n",
       "    <tr>\n",
       "      <th>466283</th>\n",
       "      <td>0.0</td>\n",
       "      <td>83000.0</td>\n",
       "      <td>3.0</td>\n",
       "      <td>2000</td>\n",
       "      <td>OWN</td>\n",
       "      <td>w</td>\n",
       "      <td>7.90</td>\n",
       "      <td>1500.68</td>\n",
       "      <td>2000</td>\n",
       "      <td>debt</td>\n",
       "      <td>0.00</td>\n",
       "      <td>Verified</td>\n",
       "      <td>36</td>\n",
       "      <td>3</td>\n",
       "      <td>1</td>\n",
       "      <td>0</td>\n",
       "    </tr>\n",
       "  </tbody>\n",
       "</table>\n",
       "<p>220452 rows × 16 columns</p>\n",
       "</div>"
      ],
      "text/plain": [
       "        acc_now_delinq  annual_inc  emp_length  funded_amnt home_ownership  \\\n",
       "0                  0.0     24000.0        10.0         5000           RENT   \n",
       "1                  0.0     30000.0         0.0         2500           RENT   \n",
       "2                  0.0     12252.0        10.0         2400           RENT   \n",
       "3                  0.0     49200.0        10.0        10000           RENT   \n",
       "5                  0.0     36000.0         3.0         5000           RENT   \n",
       "...                ...         ...         ...          ...            ...   \n",
       "466276             0.0     37536.0         5.0         8525       MORTGAGE   \n",
       "466277             0.0     90000.0         3.0        18000           RENT   \n",
       "466278             0.0     42000.0        10.0        10000           RENT   \n",
       "466281             0.0     78000.0        10.0        22000       MORTGAGE   \n",
       "466283             0.0     83000.0         3.0         2000            OWN   \n",
       "\n",
       "       initial_list_status  int_rate  last_pymnt_amnt  loan_amnt   purpose  \\\n",
       "0                        f     10.65           171.62       5000      debt   \n",
       "1                        f     15.27           119.66       2500     major   \n",
       "2                        f     15.96           649.91       2400  business   \n",
       "3                        f     13.49           357.48      10000     other   \n",
       "5                        f      7.90           161.03       5000     major   \n",
       "...                    ...       ...              ...        ...       ...   \n",
       "466276                   f     18.25           217.65       8525     major   \n",
       "466277                   f      7.90           563.23      18000      debt   \n",
       "466278                   f     18.25          5501.60      10000     major   \n",
       "466281                   f     19.97            17.50      22000      debt   \n",
       "466283                   w      7.90          1500.68       2000      debt   \n",
       "\n",
       "        recoveries verification_status  term_months  term_year  grade_num  \\\n",
       "0             0.00            Verified           36          3          2   \n",
       "1           117.08     Source Verified           60          5          3   \n",
       "2             0.00        Not Verified           36          3          3   \n",
       "3             0.00     Source Verified           36          3          3   \n",
       "5             0.00     Source Verified           36          3          1   \n",
       "...            ...                 ...          ...        ...        ...   \n",
       "466276     1159.40            Verified           60          5          4   \n",
       "466277        0.00            Verified           36          3          1   \n",
       "466278        0.00     Source Verified           36          3          4   \n",
       "466281        0.00            Verified           60          5          4   \n",
       "466283        0.00            Verified           36          3          1   \n",
       "\n",
       "        target  \n",
       "0            0  \n",
       "1            1  \n",
       "2            0  \n",
       "3            0  \n",
       "5            0  \n",
       "...        ...  \n",
       "466276       1  \n",
       "466277       1  \n",
       "466278       0  \n",
       "466281       1  \n",
       "466283       0  \n",
       "\n",
       "[220452 rows x 16 columns]"
      ]
     },
     "execution_count": 34,
     "metadata": {},
     "output_type": "execute_result"
    }
   ],
   "source": [
    "df"
   ]
  },
  {
   "cell_type": "code",
   "execution_count": 35,
   "id": "2a7a7261",
   "metadata": {},
   "outputs": [
    {
     "data": {
      "image/png": "[encoded data removed]",
      "text/plain": [
       "<Figure size 640x480 with 1 Axes>"
      ]
     },
     "metadata": {},
     "output_type": "display_data"
    }
   ],
   "source": [
    "df.target.value_counts(normalize=True).plot(kind='bar')\n",
    "plt.title('Distribusi Target');"
   ]
  },
  {
   "cell_type": "code",
   "execution_count": 36,
   "id": "fc63f851",
   "metadata": {},
   "outputs": [],
   "source": [
    "X = df.drop(columns= ['target'])\n",
    "y = df['target']"
   ]
  },
  {
   "cell_type": "code",
   "execution_count": 37,
   "id": "e2cccd13",
   "metadata": {},
   "outputs": [],
   "source": [
    "X_train, X_test, y_train, y_test = train_test_split(X, y, stratify=y, random_state=2023, test_size=0.2)"
   ]
  },
  {
   "cell_type": "code",
   "execution_count": 38,
   "id": "c0dc5651",
   "metadata": {},
   "outputs": [
    {
     "name": "stdout",
     "output_type": "stream",
     "text": [
      "176361 176361\n",
      "44091 44091\n"
     ]
    }
   ],
   "source": [
    "print(len(X_train), len(y_train))\n",
    "print(len(X_test), len(y_test))"
   ]
  },
  {
   "cell_type": "code",
   "execution_count": 39,
   "id": "087a0b3f",
   "metadata": {},
   "outputs": [
    {
     "data": {
      "text/plain": [
       "Index(['acc_now_delinq', 'annual_inc', 'emp_length', 'funded_amnt', 'int_rate',\n",
       "       'last_pymnt_amnt', 'loan_amnt', 'recoveries', 'term_months',\n",
       "       'term_year', 'grade_num'],\n",
       "      dtype='object')"
      ]
     },
     "execution_count": 39,
     "metadata": {},
     "output_type": "execute_result"
    }
   ],
   "source": [
    "X.describe().columns"
   ]
  },
  {
   "cell_type": "code",
   "execution_count": 40,
   "id": "c0e496f9",
   "metadata": {},
   "outputs": [
    {
     "data": {
      "text/plain": [
       "Index(['home_ownership', 'initial_list_status', 'purpose',\n",
       "       'verification_status'],\n",
       "      dtype='object')"
      ]
     },
     "execution_count": 40,
     "metadata": {},
     "output_type": "execute_result"
    }
   ],
   "source": [
    "X.describe(include='object').columns"
   ]
  },
  {
   "cell_type": "code",
   "execution_count": 41,
   "id": "aae6083b",
   "metadata": {},
   "outputs": [],
   "source": [
    "from sklearn.feature_selection import SelectKBest\n",
    "from sklearn.feature_selection import chi2\n",
    "\n",
    "# fit the transformer to the data and select the top k features based on chi-square test\n",
    "transformer = ColumnTransformer([\n",
    "    ('onehot', OneHotEncoder(drop='first'), ['home_ownership', 'initial_list_status', 'purpose',\n",
    "       'verification_status'])\n",
    "], remainder='passthrough')"
   ]
  },
  {
   "cell_type": "code",
   "execution_count": 42,
   "id": "447bc8c9",
   "metadata": {},
   "outputs": [],
   "source": [
    "from sklearn.feature_selection import chi2, SelectKBest\n",
    "from sklearn.compose import ColumnTransformer\n",
    "from sklearn.preprocessing import RobustScaler, OneHotEncoder"
   ]
  },
  {
   "cell_type": "code",
   "execution_count": 43,
   "id": "845d3f25",
   "metadata": {},
   "outputs": [],
   "source": [
    "selector = SelectKBest(score_func=chi2, k=15)\n",
    "X_train_transformed = transformer.fit_transform(X_train)\n",
    "X_train_selected = selector.fit_transform(X_train_transformed, y_train)"
   ]
  },
  {
   "cell_type": "code",
   "execution_count": 44,
   "id": "9ccdcb69",
   "metadata": {},
   "outputs": [
    {
     "data": {
      "text/plain": [
       "array(['onehot__home_ownership_RENT', 'onehot__initial_list_status_w',\n",
       "       'onehot__purpose_major', 'onehot__purpose_other',\n",
       "       'onehot__verification_status_Source Verified',\n",
       "       'onehot__verification_status_Verified', 'remainder__annual_inc',\n",
       "       'remainder__funded_amnt', 'remainder__int_rate',\n",
       "       'remainder__last_pymnt_amnt', 'remainder__loan_amnt',\n",
       "       'remainder__recoveries', 'remainder__term_months',\n",
       "       'remainder__term_year', 'remainder__grade_num'], dtype=object)"
      ]
     },
     "execution_count": 44,
     "metadata": {},
     "output_type": "execute_result"
    }
   ],
   "source": [
    "selected_features = transformer.get_feature_names_out()[selector.get_support()]\n",
    "selected_features"
   ]
  },
  {
   "cell_type": "code",
   "execution_count": 45,
   "id": "b4d716b0",
   "metadata": {},
   "outputs": [
    {
     "data": {
      "image/png": "[encoded data removed]",
      "text/plain": [
       "<Figure size 1000x600 with 1 Axes>"
      ]
     },
     "metadata": {},
     "output_type": "display_data"
    }
   ],
   "source": [
    "# Get the p-values\n",
    "p_values = selector.pvalues_\n",
    "p_values = np.nan_to_num(p_values)\n",
    "\n",
    "# Sort the features by descending order of -log(p-value)\n",
    "sorted_idx = (-np.log10(p_values[selector.get_support()])).argsort()\n",
    "\n",
    "# Plot the sorted p-values\n",
    "plt.figure(figsize=(10, 6))\n",
    "plt.bar(selected_features[sorted_idx], -np.log10(p_values[selector.get_support()])[sorted_idx])\n",
    "plt.xticks(rotation=90)\n",
    "plt.ylabel('-log(p-value)')\n",
    "plt.xlabel('Features')\n",
    "plt.show()"
   ]
  },
  {
   "cell_type": "code",
   "execution_count": 46,
   "id": "6614a0db",
   "metadata": {},
   "outputs": [
    {
     "data": {
      "text/html": [
       "<div>\n",
       "<style scoped>\n",
       "    .dataframe tbody tr th:only-of-type {\n",
       "        vertical-align: middle;\n",
       "    }\n",
       "\n",
       "    .dataframe tbody tr th {\n",
       "        vertical-align: top;\n",
       "    }\n",
       "\n",
       "    .dataframe thead th {\n",
       "        text-align: right;\n",
       "    }\n",
       "</style>\n",
       "<table border=\"1\" class=\"dataframe\">\n",
       "  <thead>\n",
       "    <tr style=\"text-align: right;\">\n",
       "      <th></th>\n",
       "      <th>Feature</th>\n",
       "      <th>Chi2 Score</th>\n",
       "    </tr>\n",
       "  </thead>\n",
       "  <tbody>\n",
       "    <tr>\n",
       "      <th>9</th>\n",
       "      <td>remainder__last_pymnt_amnt</td>\n",
       "      <td>2.314175e+08</td>\n",
       "    </tr>\n",
       "    <tr>\n",
       "      <th>11</th>\n",
       "      <td>remainder__recoveries</td>\n",
       "      <td>1.068457e+08</td>\n",
       "    </tr>\n",
       "    <tr>\n",
       "      <th>6</th>\n",
       "      <td>remainder__annual_inc</td>\n",
       "      <td>2.408112e+07</td>\n",
       "    </tr>\n",
       "    <tr>\n",
       "      <th>7</th>\n",
       "      <td>remainder__funded_amnt</td>\n",
       "      <td>5.186382e+06</td>\n",
       "    </tr>\n",
       "    <tr>\n",
       "      <th>10</th>\n",
       "      <td>remainder__loan_amnt</td>\n",
       "      <td>5.164167e+06</td>\n",
       "    </tr>\n",
       "    <tr>\n",
       "      <th>8</th>\n",
       "      <td>remainder__int_rate</td>\n",
       "      <td>1.584825e+04</td>\n",
       "    </tr>\n",
       "    <tr>\n",
       "      <th>12</th>\n",
       "      <td>remainder__term_months</td>\n",
       "      <td>1.331016e+04</td>\n",
       "    </tr>\n",
       "    <tr>\n",
       "      <th>14</th>\n",
       "      <td>remainder__grade_num</td>\n",
       "      <td>7.074124e+03</td>\n",
       "    </tr>\n",
       "    <tr>\n",
       "      <th>13</th>\n",
       "      <td>remainder__term_year</td>\n",
       "      <td>1.109180e+03</td>\n",
       "    </tr>\n",
       "    <tr>\n",
       "      <th>5</th>\n",
       "      <td>onehot__verification_status_Verified</td>\n",
       "      <td>2.155297e+02</td>\n",
       "    </tr>\n",
       "    <tr>\n",
       "      <th>1</th>\n",
       "      <td>onehot__initial_list_status_w</td>\n",
       "      <td>1.853794e+02</td>\n",
       "    </tr>\n",
       "    <tr>\n",
       "      <th>0</th>\n",
       "      <td>onehot__home_ownership_RENT</td>\n",
       "      <td>1.767599e+02</td>\n",
       "    </tr>\n",
       "    <tr>\n",
       "      <th>4</th>\n",
       "      <td>onehot__verification_status_Source Verified</td>\n",
       "      <td>1.725749e+02</td>\n",
       "    </tr>\n",
       "    <tr>\n",
       "      <th>2</th>\n",
       "      <td>onehot__purpose_major</td>\n",
       "      <td>1.684324e+02</td>\n",
       "    </tr>\n",
       "    <tr>\n",
       "      <th>3</th>\n",
       "      <td>onehot__purpose_other</td>\n",
       "      <td>2.787617e+01</td>\n",
       "    </tr>\n",
       "  </tbody>\n",
       "</table>\n",
       "</div>"
      ],
      "text/plain": [
       "                                        Feature    Chi2 Score\n",
       "9                    remainder__last_pymnt_amnt  2.314175e+08\n",
       "11                        remainder__recoveries  1.068457e+08\n",
       "6                         remainder__annual_inc  2.408112e+07\n",
       "7                        remainder__funded_amnt  5.186382e+06\n",
       "10                         remainder__loan_amnt  5.164167e+06\n",
       "8                           remainder__int_rate  1.584825e+04\n",
       "12                       remainder__term_months  1.331016e+04\n",
       "14                         remainder__grade_num  7.074124e+03\n",
       "13                         remainder__term_year  1.109180e+03\n",
       "5          onehot__verification_status_Verified  2.155297e+02\n",
       "1                 onehot__initial_list_status_w  1.853794e+02\n",
       "0                   onehot__home_ownership_RENT  1.767599e+02\n",
       "4   onehot__verification_status_Source Verified  1.725749e+02\n",
       "2                         onehot__purpose_major  1.684324e+02\n",
       "3                         onehot__purpose_other  2.787617e+01"
      ]
     },
     "execution_count": 46,
     "metadata": {},
     "output_type": "execute_result"
    }
   ],
   "source": [
    "# assume X and y are your feature and target matrices\n",
    "selector = SelectKBest(chi2, k=15)\n",
    "X_train_transformed = transformer.fit_transform(X_train)\n",
    "X_train_selected = selector.fit_transform(X_train_transformed, y_train)\n",
    "selector.fit(X_train_selected, y_train)\n",
    "\n",
    "# get the chi2 scores for all the features\n",
    "chi2_scores = selector.scores_\n",
    "chi2_scores\n",
    "# create a pandas dataframe to display the chi2 scores\n",
    "chi2_df = pd.DataFrame({'Feature': selected_features, 'Chi2 Score': chi2_scores})\n",
    "chi2_df = chi2_df.sort_values(by='Chi2 Score', ascending=False)\n",
    "chi2_df"
   ]
  },
  {
   "cell_type": "code",
   "execution_count": 60,
   "id": "9595fc2e",
   "metadata": {},
   "outputs": [],
   "source": [
    "data = df[['last_pymnt_amnt', 'recoveries', 'annual_inc', 'funded_amnt', 'loan_amnt', 'int_rate',\n",
    "           'grade_num', 'term_year', 'verification_status', 'purpose', 'target']].copy()"
   ]
  },
  {
   "cell_type": "code",
   "execution_count": 61,
   "id": "441270f7",
   "metadata": {},
   "outputs": [],
   "source": [
    "# Random sampling without replacement\n",
    "sample_size = 20000\n",
    "data = data.sample(n=sample_size, replace=False, random_state=42)"
   ]
  },
  {
   "cell_type": "code",
   "execution_count": 62,
   "id": "7fd23c7b",
   "metadata": {},
   "outputs": [],
   "source": [
    "X = data.drop(columns= ['target'])\n",
    "y = data['target']"
   ]
  },
  {
   "cell_type": "code",
   "execution_count": 63,
   "id": "2133bdb9",
   "metadata": {},
   "outputs": [],
   "source": [
    "X_train, X_test, y_train, y_test = train_test_split(X, y, stratify=y, random_state=2023, test_size=0.3)"
   ]
  },
  {
   "cell_type": "code",
   "execution_count": 64,
   "id": "6bb6e29d",
   "metadata": {},
   "outputs": [
    {
     "data": {
      "text/plain": [
       "(20000, 10)"
      ]
     },
     "execution_count": 64,
     "metadata": {},
     "output_type": "execute_result"
    }
   ],
   "source": [
    "X.shape"
   ]
  },
  {
   "cell_type": "code",
   "execution_count": 65,
   "id": "af531c73",
   "metadata": {},
   "outputs": [],
   "source": [
    "from sklearn.feature_selection import SelectKBest\n",
    "from sklearn.feature_selection import chi2\n",
    "\n",
    "# fit the transformer to the data and select the top k features based on chi-square test\n",
    "transformer = ColumnTransformer([\n",
    "    ('scaler', RobustScaler(), ['annual_inc', 'funded_amnt', 'int_rate',\n",
    "       'last_pymnt_amnt', 'loan_amnt', 'recoveries',\n",
    "       'term_year', 'grade_num']),\n",
    "    ('onehot', OneHotEncoder(drop='first'), ['purpose',\n",
    "       'verification_status'])\n",
    "], remainder='passthrough')"
   ]
  },
  {
   "cell_type": "code",
   "execution_count": null,
   "id": "81ae8a7c",
   "metadata": {},
   "outputs": [],
   "source": []
  },
  {
   "cell_type": "code",
   "execution_count": 66,
   "id": "42660221",
   "metadata": {},
   "outputs": [],
   "source": [
    "from sklearn.ensemble import GradientBoostingClassifier, AdaBoostClassifier\n",
    "from lightgbm import LGBMClassifier\n",
    "from xgboost import XGBClassifier\n",
    "from sklearn.metrics import roc_curve, roc_auc_score, plot_roc_curve, confusion_matrix\n",
    "from imblearn.over_sampling import ADASYN"
   ]
  },
  {
   "cell_type": "code",
   "execution_count": 67,
   "id": "de3b9f8f",
   "metadata": {},
   "outputs": [],
   "source": [
    "# Models\n",
    "logreg=LogisticRegression(random_state=2023)\n",
    "KNN=KNeighborsClassifier(n_neighbors=5)\n",
    "Tree=DecisionTreeClassifier(random_state=2023)\n",
    "forest=RandomForestClassifier(random_state=2023)\n",
    "lgbm=LGBMClassifier(random_state=2023)\n",
    "gboost=GradientBoostingClassifier(random_state=2023)\n",
    "adaboost=AdaBoostClassifier(random_state=2023)\n",
    "xgboost=XGBClassifier(random_state=2023)\n",
    "\n",
    "# OverSampling\n",
    "ros = RandomOverSampler(random_state=2023)\n",
    "smote = SMOTE(random_state=2023)\n",
    "adasyn = ADASYN(random_state=2023)\n",
    "\n",
    "# UnderSampling\n",
    "rus = RandomUnderSampler(random_state=2023)\n",
    "nearmiss = NearMiss()\n",
    "\n",
    "# Kfold\n",
    "skfold=StratifiedKFold(n_splits=5, shuffle=True, random_state=2023)"
   ]
  },
  {
   "cell_type": "code",
   "execution_count": 68,
   "id": "6a64a864",
   "metadata": {},
   "outputs": [
    {
     "data": {
      "text/html": [
       "<div>\n",
       "<style scoped>\n",
       "    .dataframe tbody tr th:only-of-type {\n",
       "        vertical-align: middle;\n",
       "    }\n",
       "\n",
       "    .dataframe tbody tr th {\n",
       "        vertical-align: top;\n",
       "    }\n",
       "\n",
       "    .dataframe thead th {\n",
       "        text-align: right;\n",
       "    }\n",
       "</style>\n",
       "<table border=\"1\" class=\"dataframe\">\n",
       "  <thead>\n",
       "    <tr style=\"text-align: right;\">\n",
       "      <th></th>\n",
       "      <th>mean roc_auc</th>\n",
       "      <th>mean accuracy</th>\n",
       "      <th>mean recall</th>\n",
       "      <th>mean precision</th>\n",
       "      <th>mean f1 score</th>\n",
       "      <th>mean balanced accuracy</th>\n",
       "    </tr>\n",
       "    <tr>\n",
       "      <th>model</th>\n",
       "      <th></th>\n",
       "      <th></th>\n",
       "      <th></th>\n",
       "      <th></th>\n",
       "      <th></th>\n",
       "      <th></th>\n",
       "    </tr>\n",
       "  </thead>\n",
       "  <tbody>\n",
       "    <tr>\n",
       "      <th>Decision Tree</th>\n",
       "      <td>0.868712</td>\n",
       "      <td>0.910071</td>\n",
       "      <td>0.795840</td>\n",
       "      <td>0.790119</td>\n",
       "      <td>0.792890</td>\n",
       "      <td>0.868712</td>\n",
       "    </tr>\n",
       "    <tr>\n",
       "      <th>Random Forest</th>\n",
       "      <td>0.974190</td>\n",
       "      <td>0.929643</td>\n",
       "      <td>0.780643</td>\n",
       "      <td>0.880454</td>\n",
       "      <td>0.827528</td>\n",
       "      <td>0.875695</td>\n",
       "    </tr>\n",
       "    <tr>\n",
       "      <th>Logistic Regression</th>\n",
       "      <td>0.968188</td>\n",
       "      <td>0.916000</td>\n",
       "      <td>0.704337</td>\n",
       "      <td>0.883796</td>\n",
       "      <td>0.783852</td>\n",
       "      <td>0.839364</td>\n",
       "    </tr>\n",
       "  </tbody>\n",
       "</table>\n",
       "</div>"
      ],
      "text/plain": [
       "                     mean roc_auc  mean accuracy  mean recall  mean precision  \\\n",
       "model                                                                           \n",
       "Decision Tree            0.868712       0.910071     0.795840        0.790119   \n",
       "Random Forest            0.974190       0.929643     0.780643        0.880454   \n",
       "Logistic Regression      0.968188       0.916000     0.704337        0.883796   \n",
       "\n",
       "                     mean f1 score  mean balanced accuracy  \n",
       "model                                                       \n",
       "Decision Tree             0.792890                0.868712  \n",
       "Random Forest             0.827528                0.875695  \n",
       "Logistic Regression       0.783852                0.839364  "
      ]
     },
     "execution_count": 68,
     "metadata": {},
     "output_type": "execute_result"
    }
   ],
   "source": [
    "# Tanpa Resampling\n",
    "from sklearn.metrics import balanced_accuracy_score\n",
    "\n",
    "models = [logreg, Tree, forest]\n",
    "score = []\n",
    "rata = []\n",
    "std = []\n",
    "acc = []\n",
    "rec = []\n",
    "prec = []\n",
    "f1 = []\n",
    "ba = []\n",
    "\n",
    "for i in models:\n",
    "    estimator = Pipeline([\n",
    "        ('preprocess', transformer),\n",
    "        ('model', i)\n",
    "    ])\n",
    "    model_cv = cross_val_score(estimator, X_train, y_train, cv=skfold, scoring='roc_auc')\n",
    "    score.append(model_cv)\n",
    "    rata.append(model_cv.mean())\n",
    "    # std.append(model_cv.std())\n",
    "    acc_cv = cross_val_score(estimator, X_train, y_train, cv=skfold, scoring='accuracy')\n",
    "    acc.append(acc_cv.mean())\n",
    "    rec_cv = cross_val_score(estimator, X_train, y_train, cv=skfold, scoring='recall')\n",
    "    rec.append(rec_cv.mean())\n",
    "    prec_cv = cross_val_score(estimator, X_train, y_train, cv=skfold, scoring='precision')\n",
    "    prec.append(prec_cv.mean())\n",
    "    f1_cv = cross_val_score(estimator, X_train, y_train, cv=skfold, scoring='f1')\n",
    "    f1.append(f1_cv.mean())\n",
    "    ba_cv = cross_val_score(estimator, X_train, y_train, cv=skfold, scoring='balanced_accuracy')\n",
    "    ba.append(ba_cv.mean())\n",
    "\n",
    "metrics_df = pd.DataFrame({\n",
    "    'model': ['Logistic Regression', 'Decision Tree', 'Random Forest'],\n",
    "    'mean roc_auc': rata,\n",
    "    'mean accuracy': acc,\n",
    "    'mean recall': rec,\n",
    "    'mean precision': prec,\n",
    "    'mean f1 score': f1,\n",
    "    'mean balanced accuracy': ba\n",
    "}).set_index('model').sort_values(by='mean recall', ascending=False)\n",
    "\n",
    "metrics_df"
   ]
  },
  {
   "cell_type": "code",
   "execution_count": 69,
   "id": "05573e88",
   "metadata": {},
   "outputs": [
    {
     "data": {
      "text/plain": [
       "0    78.38\n",
       "1    21.62\n",
       "Name: target, dtype: float64"
      ]
     },
     "execution_count": 69,
     "metadata": {},
     "output_type": "execute_result"
    }
   ],
   "source": [
    "data.target.value_counts()/len(data)*100"
   ]
  },
  {
   "cell_type": "code",
   "execution_count": 70,
   "id": "19c3e8eb",
   "metadata": {},
   "outputs": [
    {
     "data": {
      "text/html": [
       "<div>\n",
       "<style scoped>\n",
       "    .dataframe tbody tr th:only-of-type {\n",
       "        vertical-align: middle;\n",
       "    }\n",
       "\n",
       "    .dataframe tbody tr th {\n",
       "        vertical-align: top;\n",
       "    }\n",
       "\n",
       "    .dataframe thead th {\n",
       "        text-align: right;\n",
       "    }\n",
       "</style>\n",
       "<table border=\"1\" class=\"dataframe\">\n",
       "  <thead>\n",
       "    <tr style=\"text-align: right;\">\n",
       "      <th></th>\n",
       "      <th>mean roc_auc</th>\n",
       "      <th>mean accuracy</th>\n",
       "      <th>mean recall</th>\n",
       "      <th>mean precision</th>\n",
       "      <th>mean f1 score</th>\n",
       "      <th>mean balanced accuracy</th>\n",
       "    </tr>\n",
       "    <tr>\n",
       "      <th>model</th>\n",
       "      <th></th>\n",
       "      <th></th>\n",
       "      <th></th>\n",
       "      <th></th>\n",
       "      <th></th>\n",
       "      <th></th>\n",
       "    </tr>\n",
       "  </thead>\n",
       "  <tbody>\n",
       "    <tr>\n",
       "      <th>Logistic Regression</th>\n",
       "      <td>0.968438</td>\n",
       "      <td>0.886786</td>\n",
       "      <td>0.922365</td>\n",
       "      <td>0.674449</td>\n",
       "      <td>0.779047</td>\n",
       "      <td>0.899668</td>\n",
       "    </tr>\n",
       "    <tr>\n",
       "      <th>Random Forest</th>\n",
       "      <td>0.974386</td>\n",
       "      <td>0.927286</td>\n",
       "      <td>0.827229</td>\n",
       "      <td>0.835129</td>\n",
       "      <td>0.831055</td>\n",
       "      <td>0.891059</td>\n",
       "    </tr>\n",
       "    <tr>\n",
       "      <th>Decision Tree</th>\n",
       "      <td>0.875608</td>\n",
       "      <td>0.915071</td>\n",
       "      <td>0.806078</td>\n",
       "      <td>0.802281</td>\n",
       "      <td>0.804106</td>\n",
       "      <td>0.875608</td>\n",
       "    </tr>\n",
       "  </tbody>\n",
       "</table>\n",
       "</div>"
      ],
      "text/plain": [
       "                     mean roc_auc  mean accuracy  mean recall  mean precision  \\\n",
       "model                                                                           \n",
       "Logistic Regression      0.968438       0.886786     0.922365        0.674449   \n",
       "Random Forest            0.974386       0.927286     0.827229        0.835129   \n",
       "Decision Tree            0.875608       0.915071     0.806078        0.802281   \n",
       "\n",
       "                     mean f1 score  mean balanced accuracy  \n",
       "model                                                       \n",
       "Logistic Regression       0.779047                0.899668  \n",
       "Random Forest             0.831055                0.891059  \n",
       "Decision Tree             0.804106                0.875608  "
      ]
     },
     "execution_count": 70,
     "metadata": {},
     "output_type": "execute_result"
    }
   ],
   "source": [
    "# Tanpa Resampling\n",
    "from sklearn.metrics import balanced_accuracy_score\n",
    "\n",
    "models = [logreg, Tree, forest]\n",
    "score = []\n",
    "rata = []\n",
    "std = []\n",
    "acc = []\n",
    "rec = []\n",
    "prec = []\n",
    "f1 = []\n",
    "ba = []\n",
    "\n",
    "for i in models:\n",
    "    estimator = Pipeline([\n",
    "        ('preprocess', transformer),\n",
    "        ('ros', ros),\n",
    "        ('model', i)\n",
    "    ])\n",
    "    model_cv = cross_val_score(estimator, X_train, y_train, cv=skfold, scoring='roc_auc')\n",
    "    score.append(model_cv)\n",
    "    rata.append(model_cv.mean())\n",
    "    # std.append(model_cv.std())\n",
    "    acc_cv = cross_val_score(estimator, X_train, y_train, cv=skfold, scoring='accuracy')\n",
    "    acc.append(acc_cv.mean())\n",
    "    rec_cv = cross_val_score(estimator, X_train, y_train, cv=skfold, scoring='recall')\n",
    "    rec.append(rec_cv.mean())\n",
    "    prec_cv = cross_val_score(estimator, X_train, y_train, cv=skfold, scoring='precision')\n",
    "    prec.append(prec_cv.mean())\n",
    "    f1_cv = cross_val_score(estimator, X_train, y_train, cv=skfold, scoring='f1')\n",
    "    f1.append(f1_cv.mean())\n",
    "    ba_cv = cross_val_score(estimator, X_train, y_train, cv=skfold, scoring='balanced_accuracy')\n",
    "    ba.append(ba_cv.mean())\n",
    "\n",
    "metrics_df = pd.DataFrame({\n",
    "    'model': ['Logistic Regression', 'Decision Tree', 'Random Forest'],\n",
    "    'mean roc_auc': rata,\n",
    "    'mean accuracy': acc,\n",
    "    'mean recall': rec,\n",
    "    'mean precision': prec,\n",
    "    'mean f1 score': f1,\n",
    "    'mean balanced accuracy': ba\n",
    "}).set_index('model').sort_values(by='mean recall', ascending=False)\n",
    "\n",
    "metrics_df"
   ]
  },
  {
   "cell_type": "code",
   "execution_count": 71,
   "id": "36fd2fd3",
   "metadata": {},
   "outputs": [
    {
     "data": {
      "text/html": [
       "<div>\n",
       "<style scoped>\n",
       "    .dataframe tbody tr th:only-of-type {\n",
       "        vertical-align: middle;\n",
       "    }\n",
       "\n",
       "    .dataframe tbody tr th {\n",
       "        vertical-align: top;\n",
       "    }\n",
       "\n",
       "    .dataframe thead th {\n",
       "        text-align: right;\n",
       "    }\n",
       "</style>\n",
       "<table border=\"1\" class=\"dataframe\">\n",
       "  <thead>\n",
       "    <tr style=\"text-align: right;\">\n",
       "      <th></th>\n",
       "      <th>mean roc_auc</th>\n",
       "      <th>mean accuracy</th>\n",
       "      <th>mean recall</th>\n",
       "      <th>mean precision</th>\n",
       "      <th>mean f1 score</th>\n",
       "      <th>mean balanced accuracy</th>\n",
       "    </tr>\n",
       "    <tr>\n",
       "      <th>model</th>\n",
       "      <th></th>\n",
       "      <th></th>\n",
       "      <th></th>\n",
       "      <th></th>\n",
       "      <th></th>\n",
       "      <th></th>\n",
       "    </tr>\n",
       "  </thead>\n",
       "  <tbody>\n",
       "    <tr>\n",
       "      <th>Random Forest</th>\n",
       "      <td>0.973773</td>\n",
       "      <td>0.895071</td>\n",
       "      <td>0.924022</td>\n",
       "      <td>0.693191</td>\n",
       "      <td>0.792082</td>\n",
       "      <td>0.905554</td>\n",
       "    </tr>\n",
       "    <tr>\n",
       "      <th>Logistic Regression</th>\n",
       "      <td>0.968119</td>\n",
       "      <td>0.886500</td>\n",
       "      <td>0.918733</td>\n",
       "      <td>0.674603</td>\n",
       "      <td>0.777898</td>\n",
       "      <td>0.898171</td>\n",
       "    </tr>\n",
       "    <tr>\n",
       "      <th>Decision Tree</th>\n",
       "      <td>0.885052</td>\n",
       "      <td>0.884500</td>\n",
       "      <td>0.886024</td>\n",
       "      <td>0.678816</td>\n",
       "      <td>0.768572</td>\n",
       "      <td>0.885052</td>\n",
       "    </tr>\n",
       "  </tbody>\n",
       "</table>\n",
       "</div>"
      ],
      "text/plain": [
       "                     mean roc_auc  mean accuracy  mean recall  mean precision  \\\n",
       "model                                                                           \n",
       "Random Forest            0.973773       0.895071     0.924022        0.693191   \n",
       "Logistic Regression      0.968119       0.886500     0.918733        0.674603   \n",
       "Decision Tree            0.885052       0.884500     0.886024        0.678816   \n",
       "\n",
       "                     mean f1 score  mean balanced accuracy  \n",
       "model                                                       \n",
       "Random Forest             0.792082                0.905554  \n",
       "Logistic Regression       0.777898                0.898171  \n",
       "Decision Tree             0.768572                0.885052  "
      ]
     },
     "execution_count": 71,
     "metadata": {},
     "output_type": "execute_result"
    }
   ],
   "source": [
    "# Tanpa Resampling\n",
    "from sklearn.metrics import balanced_accuracy_score\n",
    "\n",
    "models = [logreg, Tree, forest]\n",
    "score = []\n",
    "rata = []\n",
    "std = []\n",
    "acc = []\n",
    "rec = []\n",
    "prec = []\n",
    "f1 = []\n",
    "ba = []\n",
    "\n",
    "for i in models:\n",
    "    estimator = Pipeline([\n",
    "        ('preprocess', transformer),\n",
    "        ('rus', rus),\n",
    "        ('model', i)\n",
    "    ])\n",
    "    model_cv = cross_val_score(estimator, X_train, y_train, cv=skfold, scoring='roc_auc')\n",
    "    score.append(model_cv)\n",
    "    rata.append(model_cv.mean())\n",
    "    # std.append(model_cv.std())\n",
    "    acc_cv = cross_val_score(estimator, X_train, y_train, cv=skfold, scoring='accuracy')\n",
    "    acc.append(acc_cv.mean())\n",
    "    rec_cv = cross_val_score(estimator, X_train, y_train, cv=skfold, scoring='recall')\n",
    "    rec.append(rec_cv.mean())\n",
    "    prec_cv = cross_val_score(estimator, X_train, y_train, cv=skfold, scoring='precision')\n",
    "    prec.append(prec_cv.mean())\n",
    "    f1_cv = cross_val_score(estimator, X_train, y_train, cv=skfold, scoring='f1')\n",
    "    f1.append(f1_cv.mean())\n",
    "    ba_cv = cross_val_score(estimator, X_train, y_train, cv=skfold, scoring='balanced_accuracy')\n",
    "    ba.append(ba_cv.mean())\n",
    "\n",
    "metrics_df = pd.DataFrame({\n",
    "    'model': ['Logistic Regression', 'Decision Tree', 'Random Forest'],\n",
    "    'mean roc_auc': rata,\n",
    "    'mean accuracy': acc,\n",
    "    'mean recall': rec,\n",
    "    'mean precision': prec,\n",
    "    'mean f1 score': f1,\n",
    "    'mean balanced accuracy': ba\n",
    "}).set_index('model').sort_values(by='mean recall', ascending=False)\n",
    "\n",
    "metrics_df"
   ]
  },
  {
   "cell_type": "markdown",
   "id": "4f084431",
   "metadata": {},
   "source": [
    "jadi pake random forest ros"
   ]
  },
  {
   "cell_type": "code",
   "execution_count": 77,
   "id": "201b11a5",
   "metadata": {},
   "outputs": [
    {
     "name": "stdout",
     "output_type": "stream",
     "text": [
      "CPU times: total: 0 ns\n",
      "Wall time: 0 ns\n"
     ]
    },
    {
     "data": {
      "text/html": [
       "<style>#sk-container-id-1 {color: black;background-color: white;}#sk-container-id-1 pre{padding: 0;}#sk-container-id-1 div.sk-toggleable {background-color: white;}#sk-container-id-1 label.sk-toggleable__label {cursor: pointer;display: block;width: 100%;margin-bottom: 0;padding: 0.3em;box-sizing: border-box;text-align: center;}#sk-container-id-1 label.sk-toggleable__label-arrow:before {content: \"▸\";float: left;margin-right: 0.25em;color: #696969;}#sk-container-id-1 label.sk-toggleable__label-arrow:hover:before {color: black;}#sk-container-id-1 div.sk-estimator:hover label.sk-toggleable__label-arrow:before {color: black;}#sk-container-id-1 div.sk-toggleable__content {max-height: 0;max-width: 0;overflow: hidden;text-align: left;background-color: #f0f8ff;}#sk-container-id-1 div.sk-toggleable__content pre {margin: 0.2em;color: black;border-radius: 0.25em;background-color: #f0f8ff;}#sk-container-id-1 input.sk-toggleable__control:checked~div.sk-toggleable__content {max-height: 200px;max-width: 100%;overflow: auto;}#sk-container-id-1 input.sk-toggleable__control:checked~label.sk-toggleable__label-arrow:before {content: \"▾\";}#sk-container-id-1 div.sk-estimator input.sk-toggleable__control:checked~label.sk-toggleable__label {background-color: #d4ebff;}#sk-container-id-1 div.sk-label input.sk-toggleable__control:checked~label.sk-toggleable__label {background-color: #d4ebff;}#sk-container-id-1 input.sk-hidden--visually {border: 0;clip: rect(1px 1px 1px 1px);clip: rect(1px, 1px, 1px, 1px);height: 1px;margin: -1px;overflow: hidden;padding: 0;position: absolute;width: 1px;}#sk-container-id-1 div.sk-estimator {font-family: monospace;background-color: #f0f8ff;border: 1px dotted black;border-radius: 0.25em;box-sizing: border-box;margin-bottom: 0.5em;}#sk-container-id-1 div.sk-estimator:hover {background-color: #d4ebff;}#sk-container-id-1 div.sk-parallel-item::after {content: \"\";width: 100%;border-bottom: 1px solid gray;flex-grow: 1;}#sk-container-id-1 div.sk-label:hover label.sk-toggleable__label {background-color: #d4ebff;}#sk-container-id-1 div.sk-serial::before {content: \"\";position: absolute;border-left: 1px solid gray;box-sizing: border-box;top: 0;bottom: 0;left: 50%;z-index: 0;}#sk-container-id-1 div.sk-serial {display: flex;flex-direction: column;align-items: center;background-color: white;padding-right: 0.2em;padding-left: 0.2em;position: relative;}#sk-container-id-1 div.sk-item {position: relative;z-index: 1;}#sk-container-id-1 div.sk-parallel {display: flex;align-items: stretch;justify-content: center;background-color: white;position: relative;}#sk-container-id-1 div.sk-item::before, #sk-container-id-1 div.sk-parallel-item::before {content: \"\";position: absolute;border-left: 1px solid gray;box-sizing: border-box;top: 0;bottom: 0;left: 50%;z-index: -1;}#sk-container-id-1 div.sk-parallel-item {display: flex;flex-direction: column;z-index: 1;position: relative;background-color: white;}#sk-container-id-1 div.sk-parallel-item:first-child::after {align-self: flex-end;width: 50%;}#sk-container-id-1 div.sk-parallel-item:last-child::after {align-self: flex-start;width: 50%;}#sk-container-id-1 div.sk-parallel-item:only-child::after {width: 0;}#sk-container-id-1 div.sk-dashed-wrapped {border: 1px dashed gray;margin: 0 0.4em 0.5em 0.4em;box-sizing: border-box;padding-bottom: 0.4em;background-color: white;}#sk-container-id-1 div.sk-label label {font-family: monospace;font-weight: bold;display: inline-block;line-height: 1.2em;}#sk-container-id-1 div.sk-label-container {text-align: center;}#sk-container-id-1 div.sk-container {/* jupyter's `normalize.less` sets `[hidden] { display: none; }` but bootstrap.min.css set `[hidden] { display: none !important; }` so we also need the `!important` here to be able to override the default hidden behavior on the sphinx rendered scikit-learn.org. See: https://github.com/scikit-learn/scikit-learn/issues/21755 */display: inline-block !important;position: relative;}#sk-container-id-1 div.sk-text-repr-fallback {display: none;}</style><div id=\"sk-container-id-1\" class=\"sk-top-container\"><div class=\"sk-text-repr-fallback\"><pre>GridSearchCV(cv=5,\n",
       "             estimator=Pipeline(steps=[(&#x27;preprocessing&#x27;,\n",
       "                                        ColumnTransformer(remainder=&#x27;passthrough&#x27;,\n",
       "                                                          transformers=[(&#x27;scaler&#x27;,\n",
       "                                                                         RobustScaler(),\n",
       "                                                                         [&#x27;annual_inc&#x27;,\n",
       "                                                                          &#x27;funded_amnt&#x27;,\n",
       "                                                                          &#x27;int_rate&#x27;,\n",
       "                                                                          &#x27;last_pymnt_amnt&#x27;,\n",
       "                                                                          &#x27;loan_amnt&#x27;,\n",
       "                                                                          &#x27;recoveries&#x27;,\n",
       "                                                                          &#x27;term_year&#x27;,\n",
       "                                                                          &#x27;grade_num&#x27;]),\n",
       "                                                                        (&#x27;onehot&#x27;,\n",
       "                                                                         OneHotEncoder(drop=&#x27;first&#x27;),\n",
       "                                                                         [&#x27;purpose&#x27;,\n",
       "                                                                          &#x27;verification_status&#x27;])])),\n",
       "                                       (&#x27;resample&#x27;,\n",
       "                                        RandomOverSampler(random_state=2023)),\n",
       "                                       (&#x27;modeling&#x27;, RandomForestClassifier())]),\n",
       "             n_jobs=-1,\n",
       "             param_grid=[{&#x27;modeling__max_depth&#x27;: [2, 3, 4, None],\n",
       "                          &#x27;modeling__max_features&#x27;: [&#x27;sqrt&#x27;, &#x27;log2&#x27;, None],\n",
       "                          &#x27;modeling__min_samples_leaf&#x27;: [2, 3, 4],\n",
       "                          &#x27;modeling__min_samples_split&#x27;: [2, 3, 4]}],\n",
       "             scoring=&#x27;roc_auc&#x27;)</pre><b>In a Jupyter environment, please rerun this cell to show the HTML representation or trust the notebook. <br />On GitHub, the HTML representation is unable to render, please try loading this page with nbviewer.org.</b></div><div class=\"sk-container\" hidden><div class=\"sk-item sk-dashed-wrapped\"><div class=\"sk-label-container\"><div class=\"sk-label sk-toggleable\"><input class=\"sk-toggleable__control sk-hidden--visually\" id=\"sk-estimator-id-1\" type=\"checkbox\" ><label for=\"sk-estimator-id-1\" class=\"sk-toggleable__label sk-toggleable__label-arrow\">GridSearchCV</label><div class=\"sk-toggleable__content\"><pre>GridSearchCV(cv=5,\n",
       "             estimator=Pipeline(steps=[(&#x27;preprocessing&#x27;,\n",
       "                                        ColumnTransformer(remainder=&#x27;passthrough&#x27;,\n",
       "                                                          transformers=[(&#x27;scaler&#x27;,\n",
       "                                                                         RobustScaler(),\n",
       "                                                                         [&#x27;annual_inc&#x27;,\n",
       "                                                                          &#x27;funded_amnt&#x27;,\n",
       "                                                                          &#x27;int_rate&#x27;,\n",
       "                                                                          &#x27;last_pymnt_amnt&#x27;,\n",
       "                                                                          &#x27;loan_amnt&#x27;,\n",
       "                                                                          &#x27;recoveries&#x27;,\n",
       "                                                                          &#x27;term_year&#x27;,\n",
       "                                                                          &#x27;grade_num&#x27;]),\n",
       "                                                                        (&#x27;onehot&#x27;,\n",
       "                                                                         OneHotEncoder(drop=&#x27;first&#x27;),\n",
       "                                                                         [&#x27;purpose&#x27;,\n",
       "                                                                          &#x27;verification_status&#x27;])])),\n",
       "                                       (&#x27;resample&#x27;,\n",
       "                                        RandomOverSampler(random_state=2023)),\n",
       "                                       (&#x27;modeling&#x27;, RandomForestClassifier())]),\n",
       "             n_jobs=-1,\n",
       "             param_grid=[{&#x27;modeling__max_depth&#x27;: [2, 3, 4, None],\n",
       "                          &#x27;modeling__max_features&#x27;: [&#x27;sqrt&#x27;, &#x27;log2&#x27;, None],\n",
       "                          &#x27;modeling__min_samples_leaf&#x27;: [2, 3, 4],\n",
       "                          &#x27;modeling__min_samples_split&#x27;: [2, 3, 4]}],\n",
       "             scoring=&#x27;roc_auc&#x27;)</pre></div></div></div><div class=\"sk-parallel\"><div class=\"sk-parallel-item\"><div class=\"sk-item\"><div class=\"sk-label-container\"><div class=\"sk-label sk-toggleable\"><input class=\"sk-toggleable__control sk-hidden--visually\" id=\"sk-estimator-id-2\" type=\"checkbox\" ><label for=\"sk-estimator-id-2\" class=\"sk-toggleable__label sk-toggleable__label-arrow\">estimator: Pipeline</label><div class=\"sk-toggleable__content\"><pre>Pipeline(steps=[(&#x27;preprocessing&#x27;,\n",
       "                 ColumnTransformer(remainder=&#x27;passthrough&#x27;,\n",
       "                                   transformers=[(&#x27;scaler&#x27;, RobustScaler(),\n",
       "                                                  [&#x27;annual_inc&#x27;, &#x27;funded_amnt&#x27;,\n",
       "                                                   &#x27;int_rate&#x27;,\n",
       "                                                   &#x27;last_pymnt_amnt&#x27;,\n",
       "                                                   &#x27;loan_amnt&#x27;, &#x27;recoveries&#x27;,\n",
       "                                                   &#x27;term_year&#x27;, &#x27;grade_num&#x27;]),\n",
       "                                                 (&#x27;onehot&#x27;,\n",
       "                                                  OneHotEncoder(drop=&#x27;first&#x27;),\n",
       "                                                  [&#x27;purpose&#x27;,\n",
       "                                                   &#x27;verification_status&#x27;])])),\n",
       "                (&#x27;resample&#x27;, RandomOverSampler(random_state=2023)),\n",
       "                (&#x27;modeling&#x27;, RandomForestClassifier())])</pre></div></div></div><div class=\"sk-serial\"><div class=\"sk-item\"><div class=\"sk-serial\"><div class=\"sk-item sk-dashed-wrapped\"><div class=\"sk-label-container\"><div class=\"sk-label sk-toggleable\"><input class=\"sk-toggleable__control sk-hidden--visually\" id=\"sk-estimator-id-3\" type=\"checkbox\" ><label for=\"sk-estimator-id-3\" class=\"sk-toggleable__label sk-toggleable__label-arrow\">preprocessing: ColumnTransformer</label><div class=\"sk-toggleable__content\"><pre>ColumnTransformer(remainder=&#x27;passthrough&#x27;,\n",
       "                  transformers=[(&#x27;scaler&#x27;, RobustScaler(),\n",
       "                                 [&#x27;annual_inc&#x27;, &#x27;funded_amnt&#x27;, &#x27;int_rate&#x27;,\n",
       "                                  &#x27;last_pymnt_amnt&#x27;, &#x27;loan_amnt&#x27;, &#x27;recoveries&#x27;,\n",
       "                                  &#x27;term_year&#x27;, &#x27;grade_num&#x27;]),\n",
       "                                (&#x27;onehot&#x27;, OneHotEncoder(drop=&#x27;first&#x27;),\n",
       "                                 [&#x27;purpose&#x27;, &#x27;verification_status&#x27;])])</pre></div></div></div><div class=\"sk-parallel\"><div class=\"sk-parallel-item\"><div class=\"sk-item\"><div class=\"sk-label-container\"><div class=\"sk-label sk-toggleable\"><input class=\"sk-toggleable__control sk-hidden--visually\" id=\"sk-estimator-id-4\" type=\"checkbox\" ><label for=\"sk-estimator-id-4\" class=\"sk-toggleable__label sk-toggleable__label-arrow\">scaler</label><div class=\"sk-toggleable__content\"><pre>[&#x27;annual_inc&#x27;, &#x27;funded_amnt&#x27;, &#x27;int_rate&#x27;, &#x27;last_pymnt_amnt&#x27;, &#x27;loan_amnt&#x27;, &#x27;recoveries&#x27;, &#x27;term_year&#x27;, &#x27;grade_num&#x27;]</pre></div></div></div><div class=\"sk-serial\"><div class=\"sk-item\"><div class=\"sk-estimator sk-toggleable\"><input class=\"sk-toggleable__control sk-hidden--visually\" id=\"sk-estimator-id-5\" type=\"checkbox\" ><label for=\"sk-estimator-id-5\" class=\"sk-toggleable__label sk-toggleable__label-arrow\">RobustScaler</label><div class=\"sk-toggleable__content\"><pre>RobustScaler()</pre></div></div></div></div></div></div><div class=\"sk-parallel-item\"><div class=\"sk-item\"><div class=\"sk-label-container\"><div class=\"sk-label sk-toggleable\"><input class=\"sk-toggleable__control sk-hidden--visually\" id=\"sk-estimator-id-6\" type=\"checkbox\" ><label for=\"sk-estimator-id-6\" class=\"sk-toggleable__label sk-toggleable__label-arrow\">onehot</label><div class=\"sk-toggleable__content\"><pre>[&#x27;purpose&#x27;, &#x27;verification_status&#x27;]</pre></div></div></div><div class=\"sk-serial\"><div class=\"sk-item\"><div class=\"sk-estimator sk-toggleable\"><input class=\"sk-toggleable__control sk-hidden--visually\" id=\"sk-estimator-id-7\" type=\"checkbox\" ><label for=\"sk-estimator-id-7\" class=\"sk-toggleable__label sk-toggleable__label-arrow\">OneHotEncoder</label><div class=\"sk-toggleable__content\"><pre>OneHotEncoder(drop=&#x27;first&#x27;)</pre></div></div></div></div></div></div><div class=\"sk-parallel-item\"><div class=\"sk-item\"><div class=\"sk-label-container\"><div class=\"sk-label sk-toggleable\"><input class=\"sk-toggleable__control sk-hidden--visually\" id=\"sk-estimator-id-8\" type=\"checkbox\" ><label for=\"sk-estimator-id-8\" class=\"sk-toggleable__label sk-toggleable__label-arrow\">remainder</label><div class=\"sk-toggleable__content\"><pre></pre></div></div></div><div class=\"sk-serial\"><div class=\"sk-item\"><div class=\"sk-estimator sk-toggleable\"><input class=\"sk-toggleable__control sk-hidden--visually\" id=\"sk-estimator-id-9\" type=\"checkbox\" ><label for=\"sk-estimator-id-9\" class=\"sk-toggleable__label sk-toggleable__label-arrow\">passthrough</label><div class=\"sk-toggleable__content\"><pre>passthrough</pre></div></div></div></div></div></div></div></div><div class=\"sk-item\"><div class=\"sk-estimator sk-toggleable\"><input class=\"sk-toggleable__control sk-hidden--visually\" id=\"sk-estimator-id-10\" type=\"checkbox\" ><label for=\"sk-estimator-id-10\" class=\"sk-toggleable__label sk-toggleable__label-arrow\">RandomOverSampler</label><div class=\"sk-toggleable__content\"><pre>RandomOverSampler(random_state=2023)</pre></div></div></div><div class=\"sk-item\"><div class=\"sk-estimator sk-toggleable\"><input class=\"sk-toggleable__control sk-hidden--visually\" id=\"sk-estimator-id-11\" type=\"checkbox\" ><label for=\"sk-estimator-id-11\" class=\"sk-toggleable__label sk-toggleable__label-arrow\">RandomForestClassifier</label><div class=\"sk-toggleable__content\"><pre>RandomForestClassifier()</pre></div></div></div></div></div></div></div></div></div></div></div></div>"
      ],
      "text/plain": [
       "GridSearchCV(cv=5,\n",
       "             estimator=Pipeline(steps=[('preprocessing',\n",
       "                                        ColumnTransformer(remainder='passthrough',\n",
       "                                                          transformers=[('scaler',\n",
       "                                                                         RobustScaler(),\n",
       "                                                                         ['annual_inc',\n",
       "                                                                          'funded_amnt',\n",
       "                                                                          'int_rate',\n",
       "                                                                          'last_pymnt_amnt',\n",
       "                                                                          'loan_amnt',\n",
       "                                                                          'recoveries',\n",
       "                                                                          'term_year',\n",
       "                                                                          'grade_num']),\n",
       "                                                                        ('onehot',\n",
       "                                                                         OneHotEncoder(drop='first'),\n",
       "                                                                         ['purpose',\n",
       "                                                                          'verification_status'])])),\n",
       "                                       ('resample',\n",
       "                                        RandomOverSampler(random_state=2023)),\n",
       "                                       ('modeling', RandomForestClassifier())]),\n",
       "             n_jobs=-1,\n",
       "             param_grid=[{'modeling__max_depth': [2, 3, 4, None],\n",
       "                          'modeling__max_features': ['sqrt', 'log2', None],\n",
       "                          'modeling__min_samples_leaf': [2, 3, 4],\n",
       "                          'modeling__min_samples_split': [2, 3, 4]}],\n",
       "             scoring='roc_auc')"
      ]
     },
     "execution_count": 77,
     "metadata": {},
     "output_type": "execute_result"
    }
   ],
   "source": [
    "# GridSearchCV\n",
    "\n",
    "%time\n",
    "# algo (benchmark model)\n",
    "model = RandomForestClassifier()\n",
    "\n",
    "# pipeline\n",
    "pipe_model = Pipeline([\n",
    "    ('preprocessing', transformer),\n",
    "    ('resample', ros),\n",
    "    ('modeling', model)\n",
    "])\n",
    "\n",
    "# hyperparameter # modeling__ agar menghindari error, karena kita akan hyperparameter pada model\n",
    "\n",
    "hyperparam = [\n",
    "    {\n",
    "        'modeling__max_depth': list(range(2,5))+[None],\n",
    "        'modeling__max_features': ['sqrt','log2', None],\n",
    "        'modeling__min_samples_leaf': list(range(2,5)),\n",
    "        'modeling__min_samples_split': list(range(2,5))\n",
    "    }\n",
    "]\n",
    "\n",
    "\n",
    "grid_search = GridSearchCV(\n",
    "                estimator=pipe_model,                  # model yang mau di tuning\n",
    "                param_grid = hyperparam,               # Hyperparameter\n",
    "                cv = 5,                                # 10 fold cross validation\n",
    "                scoring='roc_auc',    \n",
    "                n_jobs=-1                              # memaksimalkan processor\n",
    "            )\n",
    "\n",
    "# fit\n",
    "grid_search.fit(X_train, y_train)"
   ]
  },
  {
   "cell_type": "code",
   "execution_count": 79,
   "id": "5f40c041",
   "metadata": {},
   "outputs": [
    {
     "data": {
      "text/plain": [
       "{'modeling__max_depth': None,\n",
       " 'modeling__max_features': 'sqrt',\n",
       " 'modeling__min_samples_leaf': 4,\n",
       " 'modeling__min_samples_split': 4}"
      ]
     },
     "execution_count": 79,
     "metadata": {},
     "output_type": "execute_result"
    }
   ],
   "source": [
    "grid_search.best_params_"
   ]
  },
  {
   "cell_type": "code",
   "execution_count": 80,
   "id": "c5a2a1e0",
   "metadata": {},
   "outputs": [
    {
     "name": "stdout",
     "output_type": "stream",
     "text": [
      "RandomForestClassifier\n",
      "Classification Report:\n",
      "              precision    recall  f1-score   support\n",
      "\n",
      "           0       0.96      0.92      0.94      4703\n",
      "           1       0.76      0.87      0.81      1297\n",
      "\n",
      "    accuracy                           0.91      6000\n",
      "   macro avg       0.86      0.90      0.88      6000\n",
      "weighted avg       0.92      0.91      0.92      6000\n",
      "\n",
      "Confusion Matrix:\n"
     ]
    },
    {
     "data": {
      "image/png": "[encoded data removed]",
      "text/plain": [
       "<Figure size 640x480 with 2 Axes>"
      ]
     },
     "metadata": {},
     "output_type": "display_data"
    },
    {
     "name": "stdout",
     "output_type": "stream",
     "text": [
      "ROC AUC Score: 0.9744113363884106\n",
      "Balanced Score: 0.8988624364342975\n",
      "\n",
      "\n"
     ]
    }
   ],
   "source": [
    "# Define model and pipeline\n",
    "model = RandomForestClassifier(max_depth=None,\n",
    "                               max_features='sqrt',\n",
    "                               min_samples_leaf=4,\n",
    "                               min_samples_split=4)\n",
    "\n",
    "estimator = Pipeline([\n",
    "    ('preprocess', transformer),\n",
    "    ('resample', ros),\n",
    "    ('model', model)\n",
    "])\n",
    "\n",
    "# Fit model and make predictions\n",
    "estimator.fit(X_train, y_train)\n",
    "y_pred = estimator.predict(X_test)\n",
    "y_pred_proba = estimator.predict_proba(X_test)[:, 1]\n",
    "\n",
    "# Generate evaluation metrics\n",
    "print(model.__class__.__name__)\n",
    "print('Classification Report:')\n",
    "print(classification_report(y_test, y_pred))\n",
    "print('Confusion Matrix:')\n",
    "cm = confusion_matrix(y_test, y_pred)\n",
    "sns.heatmap(cm, annot=True, cmap='Blues', fmt='d')\n",
    "plt.xlabel('Predicted Label')\n",
    "plt.ylabel('True Label')\n",
    "plt.show()\n",
    "print('ROC AUC Score:', roc_auc_score(y_test, y_pred_proba))\n",
    "print('Balanced Score:', balanced_accuracy_score(y_test, y_pred))\n",
    "print('\\n')"
   ]
  },
  {
   "cell_type": "code",
   "execution_count": 81,
   "id": "d7204671",
   "metadata": {},
   "outputs": [
    {
     "data": {
      "text/plain": [
       "array([0.03877283, 0.03405937, 0.06718245, 0.56504854, 0.03278579,\n",
       "       0.19067614, 0.01368107, 0.03786666, 0.00455266, 0.00187381,\n",
       "       0.00304198, 0.00162337, 0.00499083, 0.00384449])"
      ]
     },
     "execution_count": 81,
     "metadata": {},
     "output_type": "execute_result"
    }
   ],
   "source": [
    "estimator['model'].feature_importances_"
   ]
  },
  {
   "cell_type": "code",
   "execution_count": 82,
   "id": "7c748156",
   "metadata": {},
   "outputs": [
    {
     "data": {
      "text/plain": [
       "array(['scaler__annual_inc', 'scaler__funded_amnt', 'scaler__int_rate',\n",
       "       'scaler__last_pymnt_amnt', 'scaler__loan_amnt',\n",
       "       'scaler__recoveries', 'scaler__term_year', 'scaler__grade_num',\n",
       "       'onehot__purpose_debt', 'onehot__purpose_home',\n",
       "       'onehot__purpose_major', 'onehot__purpose_other',\n",
       "       'onehot__verification_status_Source Verified',\n",
       "       'onehot__verification_status_Verified'], dtype=object)"
      ]
     },
     "execution_count": 82,
     "metadata": {},
     "output_type": "execute_result"
    }
   ],
   "source": [
    "estimator['preprocess'].get_feature_names_out()"
   ]
  },
  {
   "cell_type": "code",
   "execution_count": 83,
   "id": "7531d8c5",
   "metadata": {},
   "outputs": [
    {
     "data": {
      "text/html": [
       "<div>\n",
       "<style scoped>\n",
       "    .dataframe tbody tr th:only-of-type {\n",
       "        vertical-align: middle;\n",
       "    }\n",
       "\n",
       "    .dataframe tbody tr th {\n",
       "        vertical-align: top;\n",
       "    }\n",
       "\n",
       "    .dataframe thead th {\n",
       "        text-align: right;\n",
       "    }\n",
       "</style>\n",
       "<table border=\"1\" class=\"dataframe\">\n",
       "  <thead>\n",
       "    <tr style=\"text-align: right;\">\n",
       "      <th></th>\n",
       "      <th>feature</th>\n",
       "      <th>importance</th>\n",
       "    </tr>\n",
       "  </thead>\n",
       "  <tbody>\n",
       "    <tr>\n",
       "      <th>3</th>\n",
       "      <td>scaler__last_pymnt_amnt</td>\n",
       "      <td>56.504854</td>\n",
       "    </tr>\n",
       "    <tr>\n",
       "      <th>5</th>\n",
       "      <td>scaler__recoveries</td>\n",
       "      <td>19.067614</td>\n",
       "    </tr>\n",
       "    <tr>\n",
       "      <th>2</th>\n",
       "      <td>scaler__int_rate</td>\n",
       "      <td>6.718245</td>\n",
       "    </tr>\n",
       "    <tr>\n",
       "      <th>0</th>\n",
       "      <td>scaler__annual_inc</td>\n",
       "      <td>3.877283</td>\n",
       "    </tr>\n",
       "    <tr>\n",
       "      <th>7</th>\n",
       "      <td>scaler__grade_num</td>\n",
       "      <td>3.786666</td>\n",
       "    </tr>\n",
       "    <tr>\n",
       "      <th>1</th>\n",
       "      <td>scaler__funded_amnt</td>\n",
       "      <td>3.405937</td>\n",
       "    </tr>\n",
       "    <tr>\n",
       "      <th>4</th>\n",
       "      <td>scaler__loan_amnt</td>\n",
       "      <td>3.278579</td>\n",
       "    </tr>\n",
       "    <tr>\n",
       "      <th>6</th>\n",
       "      <td>scaler__term_year</td>\n",
       "      <td>1.368107</td>\n",
       "    </tr>\n",
       "    <tr>\n",
       "      <th>12</th>\n",
       "      <td>onehot__verification_status_Source Verified</td>\n",
       "      <td>0.499083</td>\n",
       "    </tr>\n",
       "    <tr>\n",
       "      <th>8</th>\n",
       "      <td>onehot__purpose_debt</td>\n",
       "      <td>0.455266</td>\n",
       "    </tr>\n",
       "    <tr>\n",
       "      <th>13</th>\n",
       "      <td>onehot__verification_status_Verified</td>\n",
       "      <td>0.384449</td>\n",
       "    </tr>\n",
       "    <tr>\n",
       "      <th>10</th>\n",
       "      <td>onehot__purpose_major</td>\n",
       "      <td>0.304198</td>\n",
       "    </tr>\n",
       "    <tr>\n",
       "      <th>9</th>\n",
       "      <td>onehot__purpose_home</td>\n",
       "      <td>0.187381</td>\n",
       "    </tr>\n",
       "    <tr>\n",
       "      <th>11</th>\n",
       "      <td>onehot__purpose_other</td>\n",
       "      <td>0.162337</td>\n",
       "    </tr>\n",
       "  </tbody>\n",
       "</table>\n",
       "</div>"
      ],
      "text/plain": [
       "                                        feature  importance\n",
       "3                       scaler__last_pymnt_amnt   56.504854\n",
       "5                            scaler__recoveries   19.067614\n",
       "2                              scaler__int_rate    6.718245\n",
       "0                            scaler__annual_inc    3.877283\n",
       "7                             scaler__grade_num    3.786666\n",
       "1                           scaler__funded_amnt    3.405937\n",
       "4                             scaler__loan_amnt    3.278579\n",
       "6                             scaler__term_year    1.368107\n",
       "12  onehot__verification_status_Source Verified    0.499083\n",
       "8                          onehot__purpose_debt    0.455266\n",
       "13         onehot__verification_status_Verified    0.384449\n",
       "10                        onehot__purpose_major    0.304198\n",
       "9                          onehot__purpose_home    0.187381\n",
       "11                        onehot__purpose_other    0.162337"
      ]
     },
     "execution_count": 83,
     "metadata": {},
     "output_type": "execute_result"
    }
   ],
   "source": [
    "df_imp = pd.DataFrame({\n",
    "    'feature': estimator['preprocess'].get_feature_names_out(),\n",
    "    'importance': estimator['model'].feature_importances_*100\n",
    "})\n",
    "\n",
    "df_imp = df_imp.sort_values('importance', ascending=False)\n",
    "df_imp"
   ]
  },
  {
   "cell_type": "code",
   "execution_count": 84,
   "id": "ebf48eb5",
   "metadata": {},
   "outputs": [
    {
     "data": {
      "image/png": "[encoded data removed]",
      "text/plain": [
       "<Figure size 640x480 with 1 Axes>"
      ]
     },
     "metadata": {},
     "output_type": "display_data"
    }
   ],
   "source": [
    "sns.barplot(data=df_imp, x = 'importance', y = 'feature');"
   ]
  },
  {
   "cell_type": "markdown",
   "id": "0cdabfa7",
   "metadata": {},
   "source": [
    "Dari hasil feature importance, terlihat bahwa fitur-fitur yang paling berpengaruh dalam memprediksi default risk adalah:\n",
    "\n",
    "1. scaler__last_pymnt_amnt (56.5%)\n",
    "2. scaler__recoveries (19.1%)\n",
    "3. scaler__int_rate (6.7%)\n",
    "4. scaler__annual_inc (3.9%)\n",
    "5. scaler__grade_num (3.8%)\n",
    "\n",
    "Rekomendasi bisnis yang dapat diambil dari hasil ini adalah:\n",
    "\n",
    "- Pemberian pinjaman kepada peminjam dengan last payment amount yang tinggi sebaiknya dipertimbangkan secara lebih hati-hati, karena kemungkinan untuk melakukan default lebih kecil.\n",
    "- Pemberian pinjaman kepada peminjam yang pernah mengalami pengembalian atas keterlambatan atau penundaan sebaiknya juga dipertimbangkan dengan hati-hati karena memiliki pengaruh yang signifikan terhadap risiko default.\n",
    "- Tingkat bunga yang lebih tinggi cenderung berkontribusi pada risiko default yang lebih tinggi, sehingga perlu dipertimbangkan dengan hati-hati dalam memberikan pinjaman.\n",
    "- Penghasilan tahunan dan grade kredit juga mempengaruhi risiko default, namun pengaruhnya lebih kecil dibandingkan fitur-fitur sebelumnya.\n",
    "\n",
    "\n",
    "Dengan demikian, rekomendasi bisnisnya adalah untuk mempertimbangkan faktor-faktor tersebut secara hati-hati dan melakukan penilaian risiko yang cermat sebelum memberikan pinjaman kepada calon peminjam."
   ]
  },
  {
   "cell_type": "markdown",
   "id": "2a6ee789",
   "metadata": {},
   "source": [
    "# Kesimpulan\n",
    "\n",
    "Dari classification report, model Random Forest Classifier memiliki nilai recall yang cukup baik yaitu 0.87 untuk kelas 1 (default) dan 0.92 untuk kelas 0 (non-default), dengan nilai f1-score sebesar 0.81 untuk kelas 1 dan 0.94 untuk kelas 0. Hal ini menunjukkan bahwa model ini mampu mengidentifikasi sebagian besar data yang seharusnya masuk ke dalam kelas default.\n",
    "\n",
    "Namun, meskipun recall untuk kelas 1 cukup baik, perlu diingat bahwa keputusan untuk memberikan pinjaman kepada seseorang yang kemudian tidak mampu membayar akan berdampak negatif bagi lembaga keuangan dan pelanggan lainnya. Oleh karena itu, recall yang tinggi perlu dipertimbangkan sebagai salah satu faktor dalam mengevaluasi model, tetapi tidak boleh menjadi satu-satunya faktor.\n",
    "\n",
    "Dari nilai ROC AUC score dan balanced score, model Random Forest Classifier juga menunjukkan performa yang cukup baik dalam memprediksi loan default risk. Namun, dalam kasus loan default risk, sebaiknya juga mempertimbangkan faktor-faktor lain seperti biaya false positive dan false negative untuk menentukan apakah model sudah cukup baik untuk diimplementasikan di dalam perusahaan atau masih perlu diperbaiki.\n",
    "\n",
    "Recall pada kasus default risk mengacu pada kemampuan model untuk mendeteksi semua orang yang sebenarnya akan default sebagai kelas positif. Dalam hal ini, kelas positif adalah orang yang sebenarnya akan default. Recall akan menghitung berapa banyak dari semua orang yang sebenarnya akan default yang telah dideteksi dengan benar oleh model. Sebagai contoh, jika ada 100 orang yang sebenarnya akan default dan model hanya berhasil mendeteksi 80 dari mereka, maka recall akan menjadi 80%. Dalam konteks ini, recall menjadi sangat penting karena untuk meminimalkan risiko kerugian, penting untuk dapat mendeteksi semua orang yang mungkin akan default dan mengambil tindakan yang diperlukan. Oleh karena itu, semakin tinggi recall, semakin baik model dalam mengidentifikasi orang-orang yang berisiko default dan semakin kecil kemungkinan terjadinya kerugian.\n"
   ]
  }
 ],
 "metadata": {
  "kernelspec": {
   "display_name": "Python 3 (ipykernel)",
   "language": "python",
   "name": "python3"
  },
  "language_info": {
   "codemirror_mode": {
    "name": "ipython",
    "version": 3
   },
   "file_extension": ".py",
   "mimetype": "text/x-python",
   "name": "python",
   "nbconvert_exporter": "python",
   "pygments_lexer": "ipython3",
   "version": "3.10.4"
  }
 },
 "nbformat": 4,
 "nbformat_minor": 5
}
